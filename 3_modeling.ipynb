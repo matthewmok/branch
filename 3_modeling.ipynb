{
 "cells": [
  {
   "cell_type": "markdown",
   "metadata": {},
   "source": [
    "# Goal: Predict whether a user will repay their loan or default based on their smartphone data\n",
    "\n",
    "Features to use:\n",
    "\n",
    "    - total number of calls\n",
    "    \n",
    "    - total number of texts\n",
    "    \n",
    "    - Number of unique contacts\n",
    "    \n",
    "    - length of digital history\n",
    "    \n",
    "    - number of contacts they often call (> 10 tims)\n",
    "    \n",
    "    - % of inbox sms and % of sent sms"
   ]
  },
  {
   "cell_type": "code",
   "execution_count": 42,
   "metadata": {
    "collapsed": false
   },
   "outputs": [],
   "source": [
    "import glob\n",
    "import time\n",
    "import pandas as pd\n",
    "import numpy as np\n",
    "\n",
    "from sklearn.ensemble import RandomForestClassifier as RFC\n",
    "from sklearn.linear_model import LogisticRegression as LR\n",
    "from sklearn.model_selection import GridSearchCV\n",
    "from sklearn.metrics import auc, roc_curve, confusion_matrix\n",
    "\n",
    "import matplotlib.pyplot as plt\n",
    "import seaborn as sns\n",
    "%matplotlib inline"
   ]
  },
  {
   "cell_type": "code",
   "execution_count": 2,
   "metadata": {
    "collapsed": true
   },
   "outputs": [],
   "source": [
    "df = pd.read_csv('../logs/users.csv')\n",
    "user_ids = df.user_id.values"
   ]
  },
  {
   "cell_type": "code",
   "execution_count": 6,
   "metadata": {
    "collapsed": true
   },
   "outputs": [],
   "source": [
    "# total number of calls\n",
    "count_of_call = []\n",
    "for uid in user_ids:\n",
    "    devices = glob.glob('../logs/user-%d/*' %uid)\n",
    "    call_logs = []\n",
    "    call_logs += [glob.glob(d+'/collated_call_log.txt') for d in devices]\n",
    "    total_call = 0\n",
    "    for call_log in call_logs:\n",
    "        if len(call_log) > 0:  # filter the users that don't have a call log\n",
    "            df_call = pd.read_json(call_log[0])\n",
    "            if len(df_call) > 0:  #  if not empty call logs, accumlate count\n",
    "                total_call += len(df_call)\n",
    "    count_of_call.append(total_call)"
   ]
  },
  {
   "cell_type": "code",
   "execution_count": 7,
   "metadata": {
    "collapsed": true
   },
   "outputs": [],
   "source": [
    "# total number of texts\n",
    "count_of_text = []\n",
    "for uid in user_ids:\n",
    "    devices = glob.glob('../logs/user-%d/*' %uid)\n",
    "    sms_logs = []\n",
    "    sms_logs += [glob.glob(d+'/collated_sms_log.txt') for d in devices]\n",
    "    total_text = 0\n",
    "    for sms_log in sms_logs:\n",
    "        if len(sms_log) > 0:\n",
    "            df_sms = pd.read_json(sms_log[0])\n",
    "            if len(df_sms) > 0:\n",
    "                total_text += len(df_sms)\n",
    "    count_of_text.append(total_text)"
   ]
  },
  {
   "cell_type": "code",
   "execution_count": 8,
   "metadata": {
    "collapsed": true
   },
   "outputs": [],
   "source": [
    "# number of unique contacts\n",
    "count_of_contacts = []\n",
    "for uid in user_ids:\n",
    "    devices = glob.glob('../logs/user-%d/*' %uid)\n",
    "    contact_lists = []\n",
    "    contact_lists += [glob.glob(d+'/collated_contact_list.txt') for d in devices]\n",
    "    contact_list_length = 0\n",
    "    all_contacts = []\n",
    "    for contact_list in contact_lists:\n",
    "        if len(contact_list) > 0:  # filter the users that don't have a call log\n",
    "            df_contact = pd.read_json(contact_list[0])\n",
    "            if len(df_contact) > 0:  #  if not empty call logs, accumlate count\n",
    "                all_contacts += df_contact['display_name'].values.tolist()\n",
    "    unique_contact = len(set(all_contacts))\n",
    "    count_of_contacts.append(unique_contact)"
   ]
  },
  {
   "cell_type": "code",
   "execution_count": 9,
   "metadata": {
    "collapsed": true
   },
   "outputs": [],
   "source": [
    "# length of digital history\n",
    "length_digital_history = []\n",
    "for uid in user_ids:\n",
    "    devices = glob.glob('../logs/user-%d/*' %uid)\n",
    "    call_logs = []\n",
    "    call_logs += [glob.glob(d+'/collated_call_log.txt') for d in devices]  \n",
    "    dates = []  # storing the first day and last day in each log\n",
    "    for call_log in call_logs:\n",
    "        if len(call_log) > 0:  # filter the users that don't have a call log\n",
    "            df_call = pd.read_json(call_log[0])\n",
    "            if len(df_call) > 0:  #  if not empty call logs, accumlate count\n",
    "                dates.append(min(df_call.datetime))\n",
    "                dates.append(max(df_call.datetime))\n",
    "\n",
    "    length_digital_history.append(max(dates) - min(dates))"
   ]
  },
  {
   "cell_type": "code",
   "execution_count": 10,
   "metadata": {
    "collapsed": true
   },
   "outputs": [],
   "source": [
    "# number of contacts they often call\n",
    "often_contacts = []\n",
    "for uid in user_ids:\n",
    "    devices = glob.glob('../logs/user-%d/*' %uid)\n",
    "    contact_lists = []\n",
    "    contact_lists += [glob.glob(d+'/collated_contact_list.txt') for d in devices]\n",
    "    count_often_contact = 0\n",
    "    for contact_list in contact_lists:\n",
    "        if len(contact_list) > 0:  # filter the users that don't have a contact lists\n",
    "            df_contact = pd.read_json(contact_list[0])\n",
    "            if len(df_contact) > 0:  #  if not empty contact list, accumlate count\n",
    "                count_often_contact += sum(df_contact['times_contacted'] > 10)\n",
    "    often_contacts.append(count_often_contact)"
   ]
  },
  {
   "cell_type": "code",
   "execution_count": 14,
   "metadata": {
    "collapsed": false
   },
   "outputs": [],
   "source": [
    "# percentage inbox sms\n",
    "count_of_type1 = []\n",
    "for uid in user_ids:\n",
    "    devices = glob.glob('../logs/user-%d/*' %uid)\n",
    "    sms_logs = []\n",
    "    sms_logs += [glob.glob(d+'/collated_sms_log.txt') for d in devices]\n",
    "    total_text = 0\n",
    "    inbox_text = 0\n",
    "    for sms_log in sms_logs:\n",
    "        if len(sms_log) > 0:\n",
    "            df_sms = pd.read_json(sms_log[0])\n",
    "            if len(df_sms) > 0:\n",
    "                total_text += len(df_sms)\n",
    "                inbox_text += len(df_sms[df_sms['sms_type'] == 1])\n",
    "    count_of_type1.append(inbox_text*100.0/total_text)"
   ]
  },
  {
   "cell_type": "code",
   "execution_count": 15,
   "metadata": {
    "collapsed": true
   },
   "outputs": [],
   "source": [
    "# percentage sent sms\n",
    "count_of_type2 = []\n",
    "for uid in user_ids:\n",
    "    devices = glob.glob('../logs/user-%d/*' %uid)\n",
    "    sms_logs = []\n",
    "    sms_logs += [glob.glob(d+'/collated_sms_log.txt') for d in devices]\n",
    "    total_text = 0\n",
    "    sent_text = 0\n",
    "    for sms_log in sms_logs:\n",
    "        if len(sms_log) > 0:\n",
    "            df_sms = pd.read_json(sms_log[0])\n",
    "            if len(df_sms) > 0:\n",
    "                total_text += len(df_sms)\n",
    "                sent_text += len(df_sms[df_sms['sms_type'] == 2])\n",
    "    count_of_type2.append(sent_text*100.0/total_text)"
   ]
  },
  {
   "cell_type": "code",
   "execution_count": 17,
   "metadata": {
    "collapsed": true
   },
   "outputs": [],
   "source": [
    "df['total_calls'] = count_of_call\n",
    "df['total_sms'] = count_of_text\n",
    "df['total_unique_contacts'] = count_of_contacts\n",
    "df['digital_history_length'] = length_digital_history\n",
    "df['digital_history_length'] = df['digital_history_length'].dt.days ## convert it to days\n",
    "df['total_often_contacts'] = often_contacts\n",
    "df['percentage_type1_sms'] = count_of_type1\n",
    "df['percentage_type2_sms'] = count_of_type2"
   ]
  },
  {
   "cell_type": "code",
   "execution_count": 20,
   "metadata": {
    "collapsed": true
   },
   "outputs": [],
   "source": [
    "df = df.sample(frac = 1)\n",
    "df['repaid'] = df['loan_status'] == 'repaid'\n",
    "df['repaid'] = df['repaid'].apply(int)"
   ]
  },
  {
   "cell_type": "code",
   "execution_count": 21,
   "metadata": {
    "collapsed": false
   },
   "outputs": [
    {
     "data": {
      "text/html": [
       "<div>\n",
       "<table border=\"1\" class=\"dataframe\">\n",
       "  <thead>\n",
       "    <tr style=\"text-align: right;\">\n",
       "      <th></th>\n",
       "      <th>user_id</th>\n",
       "      <th>disbursed_at</th>\n",
       "      <th>loan_status</th>\n",
       "      <th>total_calls</th>\n",
       "      <th>total_sms</th>\n",
       "      <th>total_unique_contacts</th>\n",
       "      <th>digital_history_length</th>\n",
       "      <th>total_often_contacts</th>\n",
       "      <th>percentage_type1_sms</th>\n",
       "      <th>percentage_type2_sms</th>\n",
       "      <th>repaid</th>\n",
       "    </tr>\n",
       "  </thead>\n",
       "  <tbody>\n",
       "    <tr>\n",
       "      <th>29</th>\n",
       "      <td>30</td>\n",
       "      <td>2017-03-02T00:00:00.000Z</td>\n",
       "      <td>repaid</td>\n",
       "      <td>3011</td>\n",
       "      <td>820</td>\n",
       "      <td>402</td>\n",
       "      <td>1336</td>\n",
       "      <td>70</td>\n",
       "      <td>75.121951</td>\n",
       "      <td>24.756098</td>\n",
       "      <td>1</td>\n",
       "    </tr>\n",
       "    <tr>\n",
       "      <th>249</th>\n",
       "      <td>250</td>\n",
       "      <td>2017-03-02T00:00:00.000Z</td>\n",
       "      <td>defaulted</td>\n",
       "      <td>324</td>\n",
       "      <td>16</td>\n",
       "      <td>207</td>\n",
       "      <td>14</td>\n",
       "      <td>3</td>\n",
       "      <td>100.000000</td>\n",
       "      <td>0.000000</td>\n",
       "      <td>0</td>\n",
       "    </tr>\n",
       "    <tr>\n",
       "      <th>91</th>\n",
       "      <td>92</td>\n",
       "      <td>2017-03-02T00:00:00.000Z</td>\n",
       "      <td>repaid</td>\n",
       "      <td>1500</td>\n",
       "      <td>1259</td>\n",
       "      <td>416</td>\n",
       "      <td>157</td>\n",
       "      <td>62</td>\n",
       "      <td>86.258936</td>\n",
       "      <td>12.470214</td>\n",
       "      <td>1</td>\n",
       "    </tr>\n",
       "    <tr>\n",
       "      <th>397</th>\n",
       "      <td>398</td>\n",
       "      <td>2017-03-01T00:00:00.000Z</td>\n",
       "      <td>defaulted</td>\n",
       "      <td>881</td>\n",
       "      <td>313</td>\n",
       "      <td>344</td>\n",
       "      <td>62</td>\n",
       "      <td>7</td>\n",
       "      <td>55.271565</td>\n",
       "      <td>44.728435</td>\n",
       "      <td>0</td>\n",
       "    </tr>\n",
       "    <tr>\n",
       "      <th>8</th>\n",
       "      <td>9</td>\n",
       "      <td>2017-03-02T00:00:00.000Z</td>\n",
       "      <td>repaid</td>\n",
       "      <td>973</td>\n",
       "      <td>185</td>\n",
       "      <td>98</td>\n",
       "      <td>81</td>\n",
       "      <td>16</td>\n",
       "      <td>76.216216</td>\n",
       "      <td>23.783784</td>\n",
       "      <td>1</td>\n",
       "    </tr>\n",
       "  </tbody>\n",
       "</table>\n",
       "</div>"
      ],
      "text/plain": [
       "     user_id              disbursed_at loan_status  total_calls  total_sms  \\\n",
       "29        30  2017-03-02T00:00:00.000Z      repaid         3011        820   \n",
       "249      250  2017-03-02T00:00:00.000Z   defaulted          324         16   \n",
       "91        92  2017-03-02T00:00:00.000Z      repaid         1500       1259   \n",
       "397      398  2017-03-01T00:00:00.000Z   defaulted          881        313   \n",
       "8          9  2017-03-02T00:00:00.000Z      repaid          973        185   \n",
       "\n",
       "     total_unique_contacts  digital_history_length  total_often_contacts  \\\n",
       "29                     402                    1336                    70   \n",
       "249                    207                      14                     3   \n",
       "91                     416                     157                    62   \n",
       "397                    344                      62                     7   \n",
       "8                       98                      81                    16   \n",
       "\n",
       "     percentage_type1_sms  percentage_type2_sms  repaid  \n",
       "29              75.121951             24.756098       1  \n",
       "249            100.000000              0.000000       0  \n",
       "91              86.258936             12.470214       1  \n",
       "397             55.271565             44.728435       0  \n",
       "8               76.216216             23.783784       1  "
      ]
     },
     "execution_count": 21,
     "metadata": {},
     "output_type": "execute_result"
    }
   ],
   "source": [
    "df.head(5)"
   ]
  },
  {
   "cell_type": "code",
   "execution_count": 22,
   "metadata": {
    "collapsed": false
   },
   "outputs": [],
   "source": [
    "trainX = df[['total_calls', 'total_sms', 'total_unique_contacts',\n",
    "             'digital_history_length', 'total_often_contacts',\n",
    "             'percentage_type1_sms', 'percentage_type2_sms']][:300]\n",
    "trainY = df['repaid'][:300].values\n",
    "\n",
    "testX = df[['total_calls', 'total_sms', 'total_unique_contacts',\n",
    "             'digital_history_length', 'total_often_contacts',\n",
    "             'percentage_type1_sms', 'percentage_type2_sms']][300:]\n",
    "testY = df['repaid'][300:].values"
   ]
  },
  {
   "cell_type": "code",
   "execution_count": 69,
   "metadata": {
    "collapsed": false
   },
   "outputs": [
    {
     "data": {
      "text/plain": [
       "GridSearchCV(cv=5, error_score='raise',\n",
       "       estimator=RandomForestClassifier(bootstrap=True, class_weight=None, criterion='gini',\n",
       "            max_depth=None, max_features='auto', max_leaf_nodes=None,\n",
       "            min_impurity_decrease=0.0, min_impurity_split=None,\n",
       "            min_samples_leaf=1, min_samples_split=2,\n",
       "            min_weight_fraction_leaf=0.0, n_estimators=10, n_jobs=1,\n",
       "            oob_score=False, random_state=None, verbose=0,\n",
       "            warm_start=False),\n",
       "       fit_params=None, iid=True, n_jobs=1,\n",
       "       param_grid={'n_estimators': [5, 10, 15, 20, 25, 30, 35, 40, 45, 50], 'max_depth': [1, 2, 3, 4, 5, 6, 7, 8, 9, 10]},\n",
       "       pre_dispatch='2*n_jobs', refit=True, return_train_score=True,\n",
       "       scoring=None, verbose=0)"
      ]
     },
     "execution_count": 69,
     "metadata": {},
     "output_type": "execute_result"
    }
   ],
   "source": [
    "rf_parameters = {'n_estimators':range(5, 51, 5), 'max_depth':range(1,11)}\n",
    "rf_clf = GridSearchCV(RFC(), rf_parameters, cv = 5)\n",
    "rf_clf.fit(trainX, trainY)"
   ]
  },
  {
   "cell_type": "code",
   "execution_count": 70,
   "metadata": {
    "collapsed": false
   },
   "outputs": [
    {
     "data": {
      "text/plain": [
       "({'max_depth': 2, 'n_estimators': 45}, 0.76000000000000001)"
      ]
     },
     "execution_count": 70,
     "metadata": {},
     "output_type": "execute_result"
    }
   ],
   "source": [
    "rf_clf.best_params_, rf_clf.best_score_"
   ]
  },
  {
   "cell_type": "code",
   "execution_count": 71,
   "metadata": {
    "collapsed": false
   },
   "outputs": [
    {
     "data": {
      "text/plain": [
       "71.0"
      ]
     },
     "execution_count": 71,
     "metadata": {},
     "output_type": "execute_result"
    }
   ],
   "source": [
    "pred = rf_clf.predict(testX)\n",
    "pred_proba = rf_clf.predict_proba(testX)\n",
    "sum(pred == testY)*100.0/len(testY)"
   ]
  },
  {
   "cell_type": "code",
   "execution_count": 78,
   "metadata": {
    "collapsed": false
   },
   "outputs": [
    {
     "data": {
      "image/png": "[encoded data removed]",
      "text/plain": [
       "<matplotlib.figure.Figure at 0x11a7c5f10>"
      ]
     },
     "metadata": {},
     "output_type": "display_data"
    }
   ],
   "source": [
    "cm = confusion_matrix(testY, pred)\n",
    "sns.heatmap(cm, annot = True)\n",
    "plt.title('Confusion Matrix for random forest model')\n",
    "plt.ylabel('True Labels')\n",
    "plt.xlabel('Prediction')\n",
    "plt.savefig('../presentation/rf_confusion_matrix.png')\n",
    "plt.show()"
   ]
  },
  {
   "cell_type": "code",
   "execution_count": 72,
   "metadata": {
    "collapsed": false
   },
   "outputs": [
    {
     "data": {
      "text/plain": [
       "GridSearchCV(cv=5, error_score='raise',\n",
       "       estimator=LogisticRegression(C=1.0, class_weight=None, dual=False, fit_intercept=True,\n",
       "          intercept_scaling=1, max_iter=100, multi_class='ovr', n_jobs=1,\n",
       "          penalty='l2', random_state=None, solver='liblinear', tol=0.0001,\n",
       "          verbose=0, warm_start=False),\n",
       "       fit_params=None, iid=True, n_jobs=1,\n",
       "       param_grid={'C': [0.001, 0.01, 0.1, 1, 10, 100, 1000]},\n",
       "       pre_dispatch='2*n_jobs', refit=True, return_train_score=True,\n",
       "       scoring=None, verbose=0)"
      ]
     },
     "execution_count": 72,
     "metadata": {},
     "output_type": "execute_result"
    }
   ],
   "source": [
    "logit_parameters = {'C':[10**i for i in range(-3, 4)]}\n",
    "logit_clf = GridSearchCV(LR(), logit_parameters, cv = 5)\n",
    "logit_clf.fit(trainX, trainY)"
   ]
  },
  {
   "cell_type": "code",
   "execution_count": 73,
   "metadata": {
    "collapsed": false
   },
   "outputs": [
    {
     "data": {
      "text/plain": [
       "({'C': 0.001}, 0.77333333333333332)"
      ]
     },
     "execution_count": 73,
     "metadata": {},
     "output_type": "execute_result"
    }
   ],
   "source": [
    "logit_clf.best_params_, logit_clf.best_score_"
   ]
  },
  {
   "cell_type": "code",
   "execution_count": 74,
   "metadata": {
    "collapsed": false
   },
   "outputs": [
    {
     "data": {
      "text/plain": [
       "70.0"
      ]
     },
     "execution_count": 74,
     "metadata": {},
     "output_type": "execute_result"
    }
   ],
   "source": [
    "logit_pred = logit_clf.predict(testX)\n",
    "logit_pred_proba = logit_clf.predict_proba(testX)\n",
    "sum(logit_pred == testY)*100.0/len(testY)"
   ]
  },
  {
   "cell_type": "code",
   "execution_count": 79,
   "metadata": {
    "collapsed": false
   },
   "outputs": [
    {
     "data": {
      "image/png": "[encoded data removed]",
      "text/plain": [
       "<matplotlib.figure.Figure at 0x11a5620d0>"
      ]
     },
     "metadata": {},
     "output_type": "display_data"
    }
   ],
   "source": [
    "cm = confusion_matrix(testY, logit_pred)\n",
    "sns.heatmap(cm, annot = True)\n",
    "plt.title('Confusion Matrix for logistic regression model')\n",
    "plt.ylabel('True Labels')\n",
    "plt.xlabel('Prediction')\n",
    "plt.savefig('../presentation/logit_confusion_matrix.png')\n",
    "plt.show()"
   ]
  },
  {
   "cell_type": "code",
   "execution_count": 75,
   "metadata": {
    "collapsed": false
   },
   "outputs": [
    {
     "data": {
      "image/png": "[encoded data removed]",
      "text/plain": [
       "<matplotlib.figure.Figure at 0x11b370cd0>"
      ]
     },
     "metadata": {},
     "output_type": "display_data"
    }
   ],
   "source": [
    "fpr, tpr, thresholds = roc_curve(testY, pred_proba[:, 1])\n",
    "roc_auc = auc(fpr, tpr)\n",
    "plt.plot(fpr, tpr, label = 'Random Forest (area = %0.2f)' % roc_auc)\n",
    "logit_fpr, logit_tpr, thresholds = roc_curve(testY, logit_pred_proba[:, 1])\n",
    "logit_roc_auc = auc(logit_fpr, logit_tpr)\n",
    "plt.plot(logit_fpr, logit_tpr, label = 'Logistic Regression (area = %0.2f)' % logit_roc_auc)\n",
    "plt.title('ROC curve for two models')\n",
    "plt.xlabel('False Positive Rate')\n",
    "plt.ylabel('True Positive Rate')\n",
    "plt.legend(loc = 'lower right')\n",
    "plt.savefig('../presentation/ROC_curves.png')\n",
    "plt.show()"
   ]
  },
  {
   "cell_type": "code",
   "execution_count": 67,
   "metadata": {
    "collapsed": false
   },
   "outputs": [
    {
     "data": {
      "text/plain": [
       "RandomForestClassifier(bootstrap=True, class_weight=None, criterion='gini',\n",
       "            max_depth=3, max_features='auto', max_leaf_nodes=None,\n",
       "            min_impurity_decrease=0.0, min_impurity_split=None,\n",
       "            min_samples_leaf=1, min_samples_split=2,\n",
       "            min_weight_fraction_leaf=0.0, n_estimators=5, n_jobs=1,\n",
       "            oob_score=False, random_state=None, verbose=0,\n",
       "            warm_start=False)"
      ]
     },
     "execution_count": 67,
     "metadata": {},
     "output_type": "execute_result"
    }
   ],
   "source": [
    "model = RFC(n_estimators=5, max_depth=3)\n",
    "model.fit(trainX, trainY)"
   ]
  },
  {
   "cell_type": "code",
   "execution_count": 68,
   "metadata": {
    "collapsed": false
   },
   "outputs": [
    {
     "name": "stdout",
     "output_type": "stream",
     "text": [
      "total_calls 0.364234650758\n",
      "total_sms 0.26129962402\n",
      "total_unique_contacts 0.127936286529\n",
      "digital_history_length 0.167052497245\n",
      "total_often_contacts 0.0425461685993\n",
      "percentage_type1_sms 0.0308954777643\n",
      "percentage_type2_sms 0.00603529508496\n"
     ]
    }
   ],
   "source": [
    "for i, j in zip(trainX.columns, model.feature_importances_):\n",
    "    print i, j"
   ]
  },
  {
   "cell_type": "code",
   "execution_count": null,
   "metadata": {
    "collapsed": true
   },
   "outputs": [],
   "source": []
  }
 ],
 "metadata": {
  "kernelspec": {
   "display_name": "Python 2",
   "language": "python",
   "name": "python2"
  },
  "language_info": {
   "codemirror_mode": {
    "name": "ipython",
    "version": 2
   },
   "file_extension": ".py",
   "mimetype": "text/x-python",
   "name": "python",
   "nbconvert_exporter": "python",
   "pygments_lexer": "ipython2",
   "version": "2.7.11"
  }
 },
 "nbformat": 4,
 "nbformat_minor": 0
}
