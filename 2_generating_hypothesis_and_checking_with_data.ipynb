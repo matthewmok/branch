{
 "cells": [
  {
   "cell_type": "markdown",
   "metadata": {},
   "source": [
    "# Goal: Who should we lend money to?\n",
    "\n",
    "As we want to find insights to improve and guide decisions and underwriting criteria, we want features to help make better prediction for whether a person is able to repay the loan and the probability of default. I believe when we are personally thinking about lending money to someone, there are traits that can boost our confidence for the borrowers repaying the money and there are red flags that would make us hesitate to lend money to some people. Here are some characters that I would look at before lending money to someone and I will use this as a guideline and to see if some of those can be quantified with the data sets that we have.\n",
    "\n",
    "What do I look for from a borrower:\n",
    "\n",
    "    - being responsible\n",
    "    \n",
    "    - being trustworthy (good identity/status)\n",
    "    \n",
    "    - others\n",
    "    \n",
    "What are some ways that we can quantify each of those with the data that we have?\n",
    "\n",
    "    - responsibilities:      \n",
    "        - missed call vs incoming call?\n",
    "        - any text from Branch reminding for late payment?\n",
    "        - \n",
    "        \n",
    "    - trustworthiness:\n",
    "        - number of people they contact very often\n",
    "        - number of people in their contact list\n",
    "        - number of incoming calls (from a contact vs non-contact)\n",
    "        - length of time the device has been used\n",
    "\n",
    "    - others:\n",
    "        - constantly calling late at night?\n",
    "        - constantly texting late at night?\n",
    "        - average duration for phone call?\n",
    "        - "
   ]
  },
  {
   "cell_type": "code",
   "execution_count": 1,
   "metadata": {
    "collapsed": false
   },
   "outputs": [
    {
     "name": "stderr",
     "output_type": "stream",
     "text": [
      "/Users/matthewmok/anaconda/lib/python2.7/site-packages/matplotlib/font_manager.py:273: UserWarning: Matplotlib is building the font cache using fc-list. This may take a moment.\n",
      "  warnings.warn('Matplotlib is building the font cache using fc-list. This may take a moment.')\n"
     ]
    }
   ],
   "source": [
    "import pandas as pd\n",
    "import glob\n",
    "\n",
    "from collections import Counter\n",
    "\n",
    "import matplotlib.pyplot as plt\n",
    "%matplotlib inline"
   ]
  },
  {
   "cell_type": "code",
   "execution_count": null,
   "metadata": {
    "collapsed": true
   },
   "outputs": [],
   "source": []
  }
 ],
 "metadata": {
  "kernelspec": {
   "display_name": "Python 2",
   "language": "python",
   "name": "python2"
  },
  "language_info": {
   "codemirror_mode": {
    "name": "ipython",
    "version": 2
   },
   "file_extension": ".py",
   "mimetype": "text/x-python",
   "name": "python",
   "nbconvert_exporter": "python",
   "pygments_lexer": "ipython2",
   "version": "2.7.11"
  }
 },
 "nbformat": 4,
 "nbformat_minor": 0
}
