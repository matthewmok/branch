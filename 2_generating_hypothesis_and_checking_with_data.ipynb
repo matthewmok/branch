{
 "cells": [
  {
   "cell_type": "markdown",
   "metadata": {},
   "source": [
    "# Goal: Who should we lend money to?\n",
    "\n",
    "As we want to find insights to improve and guide decisions and underwriting criteria, we want features to help make better prediction for whether a person is able to repay the loan and the probability of default. I believe when we are personally thinking about lending money to someone, there are traits that can boost our confidence for the borrowers repaying the money and there are red flags that would make us hesitate to lend money to some people. Here are some characters that I would look at before lending money to someone and I will use this as a guideline and to see if some of those can be quantified with the data sets that we have.\n",
    "\n",
    "What do I look for from a borrower:\n",
    "\n",
    "    - being responsible\n",
    "    \n",
    "    - being trustworthy (good identity/status)\n",
    "    \n",
    "    - others\n",
    "    \n",
    "What are some ways that we can quantify each of those with the data that we have?\n",
    "\n",
    "    - responsibilities:      \n",
    "        - missed call vs incoming call?\n",
    "        -\n",
    "        - any text from Branch reminding for late payment? ***\n",
    "        \n",
    "    - trustworthiness:\n",
    "        - number of people in their contact list\n",
    "        - number of calls (from a contact vs non-contact)\n",
    "        - length of time of the user digital history\n",
    "        - number of people they contact very often\n",
    "\n",
    "    - others:\n",
    "        - constantly calling late at night?\n",
    "        - constantly texting late at night? ***\n",
    "        - average duration for phone call?\n",
    "        - Number of devices?"
   ]
  },
  {
   "cell_type": "code",
   "execution_count": 169,
   "metadata": {
    "collapsed": false
   },
   "outputs": [],
   "source": [
    "import glob\n",
    "import time\n",
    "\n",
    "import pandas as pd\n",
    "import numpy as np\n",
    "\n",
    "from collections import Counter\n",
    "\n",
    "import matplotlib.pyplot as plt\n",
    "import seaborn as sns\n",
    "%matplotlib inline"
   ]
  },
  {
   "cell_type": "code",
   "execution_count": 2,
   "metadata": {
    "collapsed": false
   },
   "outputs": [
    {
     "data": {
      "text/html": [
       "<div>\n",
       "<table border=\"1\" class=\"dataframe\">\n",
       "  <thead>\n",
       "    <tr style=\"text-align: right;\">\n",
       "      <th></th>\n",
       "      <th>user_id</th>\n",
       "      <th>disbursed_at</th>\n",
       "      <th>loan_status</th>\n",
       "    </tr>\n",
       "  </thead>\n",
       "  <tbody>\n",
       "    <tr>\n",
       "      <th>0</th>\n",
       "      <td>1</td>\n",
       "      <td>2017-03-02T00:00:00.000Z</td>\n",
       "      <td>repaid</td>\n",
       "    </tr>\n",
       "    <tr>\n",
       "      <th>1</th>\n",
       "      <td>2</td>\n",
       "      <td>2017-03-01T00:00:00.000Z</td>\n",
       "      <td>defaulted</td>\n",
       "    </tr>\n",
       "    <tr>\n",
       "      <th>2</th>\n",
       "      <td>3</td>\n",
       "      <td>2017-03-02T00:00:00.000Z</td>\n",
       "      <td>repaid</td>\n",
       "    </tr>\n",
       "  </tbody>\n",
       "</table>\n",
       "</div>"
      ],
      "text/plain": [
       "   user_id              disbursed_at loan_status\n",
       "0        1  2017-03-02T00:00:00.000Z      repaid\n",
       "1        2  2017-03-01T00:00:00.000Z   defaulted\n",
       "2        3  2017-03-02T00:00:00.000Z      repaid"
      ]
     },
     "execution_count": 2,
     "metadata": {},
     "output_type": "execute_result"
    }
   ],
   "source": [
    "df = pd.read_csv('../logs/users.csv')\n",
    "df.head(3)"
   ]
  },
  {
   "cell_type": "code",
   "execution_count": 3,
   "metadata": {
    "collapsed": true
   },
   "outputs": [],
   "source": [
    "user_ids = df.user_id.values"
   ]
  },
  {
   "cell_type": "markdown",
   "metadata": {},
   "source": [
    "# looking at different call type"
   ]
  },
  {
   "cell_type": "code",
   "execution_count": 160,
   "metadata": {
    "collapsed": false
   },
   "outputs": [
    {
     "name": "stdout",
     "output_type": "stream",
     "text": [
      "400\n",
      "runtime 14.41\n"
     ]
    }
   ],
   "source": [
    "start_time = time.time()\n",
    "calls_data = []\n",
    "for uid in user_ids:\n",
    "    devices = glob.glob('../logs/user-%d/*' %uid)\n",
    "    call_logs = []\n",
    "    call_logs += [glob.glob(d+'/collated_call_log.txt') for d in devices]\n",
    "    incoming_call = 0\n",
    "    outgoing_call = 0\n",
    "    missed_call = 0\n",
    "    total_call = 0\n",
    "    for call_log in call_logs:\n",
    "        if len(call_log) > 0:  # filter the users that don't have a call log\n",
    "            df_call = pd.read_json(call_log[0])\n",
    "            if len(df_call) > 0:  #  if not empty call logs, accumlate count\n",
    "                total_call += len(df_call)\n",
    "                incoming_call += len(df_call[df_call['call_type'] == 1])\n",
    "                missed_call += len(df_call[df_call['call_type'] == 3])\n",
    "                outgoing_call += len(df_call[df_call['call_type'] == 2])\n",
    "    calls_data.append({'user_id':uid, 'total_incoming_calls':incoming_call*100.0/total_call, \n",
    "                       'total_missed_calls':missed_call*100.0/total_call, \n",
    "                       'total_outgoing_calls':outgoing_call*100.0/total_call})\n",
    "print len(calls_data)\n",
    "print 'runtime %.2f' %(time.time() - start_time)"
   ]
  },
  {
   "cell_type": "code",
   "execution_count": 162,
   "metadata": {
    "collapsed": false
   },
   "outputs": [
    {
     "data": {
      "text/html": [
       "<div>\n",
       "<table border=\"1\" class=\"dataframe\">\n",
       "  <thead>\n",
       "    <tr style=\"text-align: right;\">\n",
       "      <th></th>\n",
       "      <th>loan_status</th>\n",
       "      <th>%_incoming</th>\n",
       "      <th>%_outgoing</th>\n",
       "      <th>%_missed</th>\n",
       "    </tr>\n",
       "  </thead>\n",
       "  <tbody>\n",
       "    <tr>\n",
       "      <th>0</th>\n",
       "      <td>defaulted</td>\n",
       "      <td>29.756039</td>\n",
       "      <td>56.383679</td>\n",
       "      <td>13.614776</td>\n",
       "    </tr>\n",
       "    <tr>\n",
       "      <th>1</th>\n",
       "      <td>repaid</td>\n",
       "      <td>30.160192</td>\n",
       "      <td>56.196026</td>\n",
       "      <td>13.416973</td>\n",
       "    </tr>\n",
       "  </tbody>\n",
       "</table>\n",
       "</div>"
      ],
      "text/plain": [
       "  loan_status  %_incoming  %_outgoing   %_missed\n",
       "0   defaulted   29.756039   56.383679  13.614776\n",
       "1      repaid   30.160192   56.196026  13.416973"
      ]
     },
     "execution_count": 162,
     "metadata": {},
     "output_type": "execute_result"
    }
   ],
   "source": [
    "calls_data = pd.DataFrame(calls_data)\n",
    "calls_data = calls_data.merge(df[['user_id', 'loan_status']], how = 'inner', on = 'user_id')\n",
    "\n",
    "grouped_calls = calls_data[['loan_status', 'total_incoming_calls', 'total_outgoing_calls','total_missed_calls']].groupby('loan_status').mean().reset_index()\n",
    "grouped_calls.columns = ['loan_status', '%_incoming', '%_outgoing', '%_missed']\n",
    "grouped_calls"
   ]
  },
  {
   "cell_type": "markdown",
   "metadata": {},
   "source": [
    "# Total number of calls:"
   ]
  },
  {
   "cell_type": "code",
   "execution_count": 174,
   "metadata": {
    "collapsed": false
   },
   "outputs": [
    {
     "name": "stdout",
     "output_type": "stream",
     "text": [
      "400\n",
      "runtime 14.50\n"
     ]
    }
   ],
   "source": [
    "start_time = time.time()\n",
    "calls_data = []\n",
    "for uid in user_ids:\n",
    "    devices = glob.glob('../logs/user-%d/*' %uid)\n",
    "    call_logs = []\n",
    "    call_logs += [glob.glob(d+'/collated_call_log.txt') for d in devices]\n",
    "    total_call = 0\n",
    "    for call_log in call_logs:\n",
    "        if len(call_log) > 0:  # filter the users that don't have a call log\n",
    "            df_call = pd.read_json(call_log[0])\n",
    "            if len(df_call) > 0:  #  if not empty call logs, accumlate count\n",
    "                total_call += len(df_call)\n",
    "    calls_data.append({'user_id':uid, 'total_calls':total_call})\n",
    "print len(calls_data)\n",
    "print 'runtime %.2f' %(time.time() - start_time)"
   ]
  },
  {
   "cell_type": "code",
   "execution_count": 175,
   "metadata": {
    "collapsed": false
   },
   "outputs": [
    {
     "data": {
      "text/html": [
       "<div>\n",
       "<table border=\"1\" class=\"dataframe\">\n",
       "  <thead>\n",
       "    <tr style=\"text-align: right;\">\n",
       "      <th></th>\n",
       "      <th>loan_status</th>\n",
       "      <th>total_calls</th>\n",
       "    </tr>\n",
       "  </thead>\n",
       "  <tbody>\n",
       "    <tr>\n",
       "      <th>0</th>\n",
       "      <td>defaulted</td>\n",
       "      <td>1053.935</td>\n",
       "    </tr>\n",
       "    <tr>\n",
       "      <th>1</th>\n",
       "      <td>repaid</td>\n",
       "      <td>2953.380</td>\n",
       "    </tr>\n",
       "  </tbody>\n",
       "</table>\n",
       "</div>"
      ],
      "text/plain": [
       "  loan_status  total_calls\n",
       "0   defaulted     1053.935\n",
       "1      repaid     2953.380"
      ]
     },
     "execution_count": 175,
     "metadata": {},
     "output_type": "execute_result"
    }
   ],
   "source": [
    "calls_data = pd.DataFrame(calls_data)\n",
    "calls_data = calls_data.merge(df[['user_id', 'loan_status']], how = 'inner', on = 'user_id')\n",
    "\n",
    "grouped_calls = calls_data[['loan_status', 'total_calls']].groupby('loan_status').mean().reset_index()\n",
    "grouped_calls.columns = ['loan_status', 'total_calls']\n",
    "grouped_calls"
   ]
  },
  {
   "cell_type": "markdown",
   "metadata": {},
   "source": [
    "# Total number of text"
   ]
  },
  {
   "cell_type": "code",
   "execution_count": 177,
   "metadata": {
    "collapsed": false
   },
   "outputs": [
    {
     "name": "stdout",
     "output_type": "stream",
     "text": [
      "400\n",
      "runtime 19.49\n"
     ]
    }
   ],
   "source": [
    "start_time = time.time()\n",
    "text_data = []\n",
    "for uid in user_ids:\n",
    "    devices = glob.glob('../logs/user-%d/*' %uid)\n",
    "    sms_logs = []\n",
    "    sms_logs += [glob.glob(d+'/collated_sms_log.txt') for d in devices]\n",
    "    total_text = 0\n",
    "    for sms_log in sms_logs:\n",
    "        if len(sms_log) > 0:\n",
    "            df_sms = pd.read_json(sms_log[0])\n",
    "            if len(df_sms) > 0:\n",
    "                total_text += len(df_sms)\n",
    "    text_data.append({'user_id':uid, 'total_text':total_text})\n",
    "print len(text_data)\n",
    "print 'runtime %.2f' %(time.time() - start_time)"
   ]
  },
  {
   "cell_type": "code",
   "execution_count": 180,
   "metadata": {
    "collapsed": false
   },
   "outputs": [
    {
     "data": {
      "text/html": [
       "<div>\n",
       "<table border=\"1\" class=\"dataframe\">\n",
       "  <thead>\n",
       "    <tr style=\"text-align: right;\">\n",
       "      <th></th>\n",
       "      <th>loan_status</th>\n",
       "      <th>total_text</th>\n",
       "    </tr>\n",
       "  </thead>\n",
       "  <tbody>\n",
       "    <tr>\n",
       "      <th>0</th>\n",
       "      <td>defaulted</td>\n",
       "      <td>2233.935</td>\n",
       "    </tr>\n",
       "    <tr>\n",
       "      <th>1</th>\n",
       "      <td>repaid</td>\n",
       "      <td>5256.730</td>\n",
       "    </tr>\n",
       "  </tbody>\n",
       "</table>\n",
       "</div>"
      ],
      "text/plain": [
       "  loan_status  total_text\n",
       "0   defaulted    2233.935\n",
       "1      repaid    5256.730"
      ]
     },
     "execution_count": 180,
     "metadata": {},
     "output_type": "execute_result"
    }
   ],
   "source": [
    "text_data = pd.DataFrame(text_data)\n",
    "text_data = text_data.merge(df[['user_id', 'loan_status']], how = 'inner', on = 'user_id')\n",
    "\n",
    "grouped_text = text_data[['loan_status', 'total_text']].groupby('loan_status').mean().reset_index()\n",
    "grouped_text.columns = ['loan_status', 'total_text']\n",
    "grouped_text"
   ]
  },
  {
   "cell_type": "markdown",
   "metadata": {
    "collapsed": false
   },
   "source": [
    "# Number of contacts in their contact list\n",
    "\n",
    "Since a user can have multiple devices and have contact list on each of their devices, I am going to count the number of contacts they have without counting the duplicates."
   ]
  },
  {
   "cell_type": "code",
   "execution_count": 36,
   "metadata": {
    "collapsed": false,
    "scrolled": true
   },
   "outputs": [
    {
     "name": "stdout",
     "output_type": "stream",
     "text": [
      "runtime 5.80\n"
     ]
    }
   ],
   "source": [
    "start_time = time.time()\n",
    "contacts_data = []\n",
    "for uid in user_ids:\n",
    "    devices = glob.glob('../logs/user-%d/*' %uid)\n",
    "    contact_lists = []\n",
    "    contact_lists += [glob.glob(d+'/collated_contact_list.txt') for d in devices]\n",
    "    contact_list_length = 0\n",
    "    all_contacts = []\n",
    "    for contact_list in contact_lists:\n",
    "        if len(contact_list) > 0:  # filter the users that don't have a call log\n",
    "            df_contact = pd.read_json(contact_list[0])\n",
    "            if len(df_contact) > 0:  #  if not empty call logs, accumlate count\n",
    "                all_contacts += df_contact['display_name'].values.tolist()\n",
    "    unique_contact = len(set(all_contacts))\n",
    "    contacts_data.append({'user_id':uid, 'unique_contact_count':unique_contact})\n",
    "print 'runtime %.2f' %(time.time() - start_time)"
   ]
  },
  {
   "cell_type": "code",
   "execution_count": 51,
   "metadata": {
    "collapsed": false
   },
   "outputs": [
    {
     "data": {
      "text/html": [
       "<div>\n",
       "<table border=\"1\" class=\"dataframe\">\n",
       "  <thead>\n",
       "    <tr style=\"text-align: right;\">\n",
       "      <th></th>\n",
       "      <th>loan_status</th>\n",
       "      <th>min_unique_contact_count</th>\n",
       "      <th>avg_unique_contact_count</th>\n",
       "      <th>max_unique_contact_count</th>\n",
       "      <th>std</th>\n",
       "    </tr>\n",
       "  </thead>\n",
       "  <tbody>\n",
       "    <tr>\n",
       "      <th>0</th>\n",
       "      <td>defaulted</td>\n",
       "      <td>7</td>\n",
       "      <td>294.465</td>\n",
       "      <td>1606</td>\n",
       "      <td>228.258625</td>\n",
       "    </tr>\n",
       "    <tr>\n",
       "      <th>1</th>\n",
       "      <td>repaid</td>\n",
       "      <td>0</td>\n",
       "      <td>417.385</td>\n",
       "      <td>2580</td>\n",
       "      <td>406.151450</td>\n",
       "    </tr>\n",
       "  </tbody>\n",
       "</table>\n",
       "</div>"
      ],
      "text/plain": [
       "  loan_status  min_unique_contact_count  avg_unique_contact_count  \\\n",
       "0   defaulted                         7                   294.465   \n",
       "1      repaid                         0                   417.385   \n",
       "\n",
       "   max_unique_contact_count         std  \n",
       "0                      1606  228.258625  \n",
       "1                      2580  406.151450  "
      ]
     },
     "execution_count": 51,
     "metadata": {},
     "output_type": "execute_result"
    }
   ],
   "source": [
    "contacts_data = pd.DataFrame(contacts_data)\n",
    "contacts_data = contacts_data.merge(df[['user_id', 'loan_status']], how = 'inner', on = 'user_id')\n",
    "\n",
    "grouped_contacts = contacts_data[['loan_status', 'unique_contact_count']].groupby('loan_status').agg(['min', 'mean','max', 'std']).reset_index()\n",
    "grouped_contacts.columns = ['loan_status','min_unique_contact_count', 'avg_unique_contact_count', 'max_unique_contact_count', 'std']\n",
    "grouped_contacts"
   ]
  },
  {
   "cell_type": "markdown",
   "metadata": {},
   "source": [
    "# Number of calls from a contact vs non-contact\n",
    "\n",
    "The idea here is to measure how connected the user is with the people aronud him, which I assume that if they contact each other often, the contact will be cached and appear in cached_name.\n",
    "\n",
    "An unexpected problem with this measurement would be there are devices that don't have the field cached_name."
   ]
  },
  {
   "cell_type": "code",
   "execution_count": 154,
   "metadata": {
    "collapsed": false
   },
   "outputs": [
    {
     "name": "stdout",
     "output_type": "stream",
     "text": [
      "400\n",
      "runtime 17.78\n"
     ]
    }
   ],
   "source": [
    "start_time = time.time()\n",
    "calls_data = []\n",
    "for uid in user_ids:\n",
    "    devices = glob.glob('../logs/user-%d/*' %uid)\n",
    "    call_logs = []\n",
    "    call_logs += [glob.glob(d+'/collated_call_log.txt') for d in devices]\n",
    "    from_cached = 0\n",
    "    not_from_cached = 0\n",
    "    for call_log in call_logs:\n",
    "        if len(call_log) > 0:  # filter the users that don't have a call log\n",
    "            df_call = pd.read_json(call_log[0])\n",
    "            if len(df_call) > 0:  #  if not empty call logs, accumlate count\n",
    "                try:\n",
    "                    from_cached += sum(df_call.cached_name.notnull())\n",
    "                    not_from_cached += sum(df_call.cached_name.isnull())\n",
    "                except:  # device that doesn't have cached_name as their field\n",
    "                    continue\n",
    "    calls_data.append({'user_id':uid, 'from_cached':from_cached, 'not_from_cached':not_from_cached})\n",
    "print len(calls_data)\n",
    "print 'runtime %.2f' %(time.time() - start_time)"
   ]
  },
  {
   "cell_type": "code",
   "execution_count": 155,
   "metadata": {
    "collapsed": false
   },
   "outputs": [
    {
     "data": {
      "text/html": [
       "<div>\n",
       "<table border=\"1\" class=\"dataframe\">\n",
       "  <thead>\n",
       "    <tr style=\"text-align: right;\">\n",
       "      <th></th>\n",
       "      <th>loan_status</th>\n",
       "      <th>from_cached</th>\n",
       "      <th>not_from_cached</th>\n",
       "      <th>%_from_cached</th>\n",
       "    </tr>\n",
       "  </thead>\n",
       "  <tbody>\n",
       "    <tr>\n",
       "      <th>0</th>\n",
       "      <td>defaulted</td>\n",
       "      <td>672.155</td>\n",
       "      <td>244.54</td>\n",
       "      <td>73.323734</td>\n",
       "    </tr>\n",
       "    <tr>\n",
       "      <th>1</th>\n",
       "      <td>repaid</td>\n",
       "      <td>1908.585</td>\n",
       "      <td>611.99</td>\n",
       "      <td>75.720223</td>\n",
       "    </tr>\n",
       "  </tbody>\n",
       "</table>\n",
       "</div>"
      ],
      "text/plain": [
       "  loan_status  from_cached  not_from_cached  %_from_cached\n",
       "0   defaulted      672.155           244.54      73.323734\n",
       "1      repaid     1908.585           611.99      75.720223"
      ]
     },
     "execution_count": 155,
     "metadata": {},
     "output_type": "execute_result"
    }
   ],
   "source": [
    "calls_data = pd.DataFrame(calls_data)\n",
    "calls_data = calls_data.merge(df[['user_id', 'loan_status']], how = 'inner', on = 'user_id')\n",
    "\n",
    "grouped_calls = calls_data[['loan_status', 'from_cached', 'not_from_cached']].groupby('loan_status').mean().reset_index()\n",
    "grouped_calls.columns = ['loan_status', 'from_cached', 'not_from_cached']\n",
    "grouped_calls['%_from_cached'] = grouped_calls.from_cached*100.0/(grouped_calls.from_cached + grouped_calls.not_from_cached)\n",
    "grouped_calls"
   ]
  },
  {
   "cell_type": "markdown",
   "metadata": {},
   "source": [
    "# length of time the user has digital history\n",
    "\n",
    "This is similar to measuring the average account length in the credit score with a slight difference in people can have multiple credit cards and loans at the same time but when it comes to using phones or other digital devices, once they get a new phone, they don't go back to keep using their old one.\n",
    "\n",
    "So here I adjust the calculation a little bit. Instead of taking the average of length of each device, I estimate it by taking the difference between the first day they call someone and the last day they call someone among all devices.\n",
    "\n",
    "Note: Using call logs here becuase the datetime from sms logs can be very noisy (e.g. timestamp in 1970 or 2027)."
   ]
  },
  {
   "cell_type": "code",
   "execution_count": 96,
   "metadata": {
    "collapsed": false
   },
   "outputs": [
    {
     "name": "stdout",
     "output_type": "stream",
     "text": [
      "400\n",
      "runtime 18.69\n"
     ]
    }
   ],
   "source": [
    "import datetime\n",
    "start_time = time.time()\n",
    "digital_history = []\n",
    "for uid in user_ids:\n",
    "    devices = glob.glob('../logs/user-%d/*' %uid)\n",
    "    call_logs = []\n",
    "    call_logs += [glob.glob(d+'/collated_call_log.txt') for d in devices]  \n",
    "    dates = []  # storing the first day and last day in each log\n",
    "    for call_log in call_logs:\n",
    "        if len(call_log) > 0:  # filter the users that don't have a call log\n",
    "            df_call = pd.read_json(call_log[0])\n",
    "            if len(df_call) > 0:  #  if not empty call logs, accumlate count\n",
    "                dates.append(min(df_call.datetime))\n",
    "                dates.append(max(df_call.datetime))\n",
    "\n",
    "    digital_history.append({'user_id':uid, 'first_day':min(dates), 'last_day':max(dates)})\n",
    "print len(digital_history)\n",
    "print 'runtime %.2f' %(time.time() - start_time)"
   ]
  },
  {
   "cell_type": "code",
   "execution_count": 105,
   "metadata": {
    "collapsed": false
   },
   "outputs": [
    {
     "data": {
      "text/html": [
       "<div>\n",
       "<table border=\"1\" class=\"dataframe\">\n",
       "  <thead>\n",
       "    <tr>\n",
       "      <th></th>\n",
       "      <th>loan_status</th>\n",
       "      <th colspan=\"4\" halign=\"left\">length_of_history</th>\n",
       "    </tr>\n",
       "    <tr>\n",
       "      <th></th>\n",
       "      <th></th>\n",
       "      <th>min</th>\n",
       "      <th>mean</th>\n",
       "      <th>max</th>\n",
       "      <th>std</th>\n",
       "    </tr>\n",
       "  </thead>\n",
       "  <tbody>\n",
       "    <tr>\n",
       "      <th>0</th>\n",
       "      <td>defaulted</td>\n",
       "      <td>1</td>\n",
       "      <td>327.48</td>\n",
       "      <td>7352</td>\n",
       "      <td>774.43205</td>\n",
       "    </tr>\n",
       "    <tr>\n",
       "      <th>1</th>\n",
       "      <td>repaid</td>\n",
       "      <td>0</td>\n",
       "      <td>579.80</td>\n",
       "      <td>13743</td>\n",
       "      <td>1193.79479</td>\n",
       "    </tr>\n",
       "  </tbody>\n",
       "</table>\n",
       "</div>"
      ],
      "text/plain": [
       "  loan_status length_of_history                           \n",
       "                            min    mean    max         std\n",
       "0   defaulted                 1  327.48   7352   774.43205\n",
       "1      repaid                 0  579.80  13743  1193.79479"
      ]
     },
     "execution_count": 105,
     "metadata": {},
     "output_type": "execute_result"
    }
   ],
   "source": [
    "digital_history = pd.DataFrame(digital_history)\n",
    "digital_history = digital_history.merge(df[['user_id', 'loan_status']], how = 'inner', on = 'user_id')\n",
    "digital_history['length_of_history'] = digital_history.last_day - digital_history.first_day\n",
    "digital_history['length_of_history'] = digital_history['length_of_history'].dt.days\n",
    "digital_history\n",
    "grouped_hist = digital_history[['loan_status', 'length_of_history']].groupby('loan_status').agg(['min', 'mean','max', 'std']).reset_index()\n",
    "grouped_hist"
   ]
  },
  {
   "cell_type": "markdown",
   "metadata": {},
   "source": [
    "# number of people they contact very often\n",
    "\n",
    "how many people has a use called more than 10 times?\n",
    "\n",
    "After some looking into the data, I found that the average number of calls that user make to their contacts are around 10, so I set it as a threshold."
   ]
  },
  {
   "cell_type": "code",
   "execution_count": 118,
   "metadata": {
    "collapsed": false
   },
   "outputs": [
    {
     "name": "stdout",
     "output_type": "stream",
     "text": [
      "runtime 5.68\n"
     ]
    }
   ],
   "source": [
    "start_time = time.time()\n",
    "contacts_data = []\n",
    "for uid in user_ids:\n",
    "    devices = glob.glob('../logs/user-%d/*' %uid)\n",
    "    contact_lists = []\n",
    "    contact_lists += [glob.glob(d+'/collated_contact_list.txt') for d in devices]\n",
    "    count_often_contact = 0\n",
    "    for contact_list in contact_lists:\n",
    "        if len(contact_list) > 0:  # filter the users that don't have a contact lists\n",
    "            df_contact = pd.read_json(contact_list[0])\n",
    "            if len(df_contact) > 0:  #  if not empty contact list, accumlate count\n",
    "                count_often_contact += sum(df_contact['times_contacted'] > 10)\n",
    "    contacts_data.append({'user_id':uid, 'count_often_contact':count_often_contact})\n",
    "print 'runtime %.2f' %(time.time() - start_time)"
   ]
  },
  {
   "cell_type": "code",
   "execution_count": 119,
   "metadata": {
    "collapsed": false
   },
   "outputs": [
    {
     "data": {
      "text/html": [
       "<div>\n",
       "<table border=\"1\" class=\"dataframe\">\n",
       "  <thead>\n",
       "    <tr style=\"text-align: right;\">\n",
       "      <th></th>\n",
       "      <th>loan_status</th>\n",
       "      <th>count_often_contact</th>\n",
       "    </tr>\n",
       "  </thead>\n",
       "  <tbody>\n",
       "    <tr>\n",
       "      <th>0</th>\n",
       "      <td>defaulted</td>\n",
       "      <td>36.980</td>\n",
       "    </tr>\n",
       "    <tr>\n",
       "      <th>1</th>\n",
       "      <td>repaid</td>\n",
       "      <td>54.405</td>\n",
       "    </tr>\n",
       "  </tbody>\n",
       "</table>\n",
       "</div>"
      ],
      "text/plain": [
       "  loan_status  count_often_contact\n",
       "0   defaulted               36.980\n",
       "1      repaid               54.405"
      ]
     },
     "execution_count": 119,
     "metadata": {},
     "output_type": "execute_result"
    }
   ],
   "source": [
    "contacts_data = pd.DataFrame(contacts_data)\n",
    "contacts_data = contacts_data.merge(df[['user_id', 'loan_status']], how = 'inner', on = 'user_id')\n",
    "\n",
    "grouped_contacts = contacts_data[['loan_status', 'count_often_contact']].groupby('loan_status').mean().reset_index()\n",
    "grouped_contacts"
   ]
  },
  {
   "cell_type": "markdown",
   "metadata": {},
   "source": [
    "# Number of calls late at night?\n",
    "\n",
    "Let's define late at nigth mean 10pm - 4am. "
   ]
  },
  {
   "cell_type": "code",
   "execution_count": 166,
   "metadata": {
    "collapsed": false
   },
   "outputs": [
    {
     "name": "stdout",
     "output_type": "stream",
     "text": [
      "400\n",
      "runtime 23.21\n"
     ]
    }
   ],
   "source": [
    "start_time = time.time()\n",
    "calls_data = []\n",
    "for uid in user_ids:\n",
    "    devices = glob.glob('../logs/user-%d/*' %uid)\n",
    "    call_logs = []\n",
    "    call_logs += [glob.glob(d+'/collated_call_log.txt') for d in devices]\n",
    "    late_night_call = 0\n",
    "    normal_hour_call = 0\n",
    "    for call_log in call_logs:\n",
    "        if len(call_log) > 0:  # filter the users that don't have a call log\n",
    "            df_call = pd.read_json(call_log[0])\n",
    "            if len(df_call) > 0:  #  if not empty call logs, accumlate count\n",
    "                try:\n",
    "                    df_call['hour'] = df_call['datetime'].dt.hour\n",
    "                    late_night_call += sum(df_call['hour'] <= 4) + sum(df_call['hour'] >= 22)             \n",
    "                    normal_hour_call += sum(df_call['hour'] < 22) - sum(df_call['hour'] <= 4)\n",
    "                except:\n",
    "                    continue\n",
    "    calls_data.append({'user_id':uid, 'late_night_call':late_night_call, 'normal_hour_call':normal_hour_call})\n",
    "print len(calls_data)\n",
    "print 'runtime %.2f' %(time.time() - start_time)"
   ]
  },
  {
   "cell_type": "code",
   "execution_count": 167,
   "metadata": {
    "collapsed": false
   },
   "outputs": [
    {
     "data": {
      "text/html": [
       "<div>\n",
       "<table border=\"1\" class=\"dataframe\">\n",
       "  <thead>\n",
       "    <tr style=\"text-align: right;\">\n",
       "      <th></th>\n",
       "      <th>loan_status</th>\n",
       "      <th>late_night_call</th>\n",
       "      <th>normal_hour_call</th>\n",
       "      <th>%_of_late_night_call</th>\n",
       "    </tr>\n",
       "  </thead>\n",
       "  <tbody>\n",
       "    <tr>\n",
       "      <th>0</th>\n",
       "      <td>defaulted</td>\n",
       "      <td>58.160</td>\n",
       "      <td>995.775</td>\n",
       "      <td>5.518367</td>\n",
       "    </tr>\n",
       "    <tr>\n",
       "      <th>1</th>\n",
       "      <td>repaid</td>\n",
       "      <td>169.285</td>\n",
       "      <td>2774.130</td>\n",
       "      <td>5.751313</td>\n",
       "    </tr>\n",
       "  </tbody>\n",
       "</table>\n",
       "</div>"
      ],
      "text/plain": [
       "  loan_status  late_night_call  normal_hour_call  %_of_late_night_call\n",
       "0   defaulted           58.160           995.775              5.518367\n",
       "1      repaid          169.285          2774.130              5.751313"
      ]
     },
     "execution_count": 167,
     "metadata": {},
     "output_type": "execute_result"
    }
   ],
   "source": [
    "calls_data = pd.DataFrame(calls_data)\n",
    "calls_data = calls_data.merge(df[['user_id', 'loan_status']], how = 'inner', on = 'user_id')\n",
    "\n",
    "grouped_calls = calls_data[['loan_status', 'late_night_call', 'normal_hour_call']].groupby('loan_status').mean().reset_index()\n",
    "grouped_calls.columns = ['loan_status', 'late_night_call', 'normal_hour_call']\n",
    "grouped_calls['%_of_late_night_call'] = grouped_calls.late_night_call*100.0/(grouped_calls.late_night_call + grouped_calls.normal_hour_call)\n",
    "grouped_calls"
   ]
  },
  {
   "cell_type": "code",
   "execution_count": null,
   "metadata": {
    "collapsed": false
   },
   "outputs": [],
   "source": []
  },
  {
   "cell_type": "code",
   "execution_count": null,
   "metadata": {
    "collapsed": false
   },
   "outputs": [],
   "source": []
  },
  {
   "cell_type": "markdown",
   "metadata": {},
   "source": [
    "It seems like the % of late night call among people who defaulted and repaid are pretty similar"
   ]
  },
  {
   "cell_type": "markdown",
   "metadata": {},
   "source": [
    "# Average duration of phone call"
   ]
  },
  {
   "cell_type": "code",
   "execution_count": 139,
   "metadata": {
    "collapsed": false
   },
   "outputs": [
    {
     "name": "stdout",
     "output_type": "stream",
     "text": [
      "400\n",
      "runtime 15.69\n"
     ]
    }
   ],
   "source": [
    "start_time = time.time()\n",
    "calls_data = []\n",
    "for uid in user_ids:\n",
    "    devices = glob.glob('../logs/user-%d/*' %uid)\n",
    "    call_logs = []\n",
    "    call_logs += [glob.glob(d+'/collated_call_log.txt') for d in devices]\n",
    "    durations = []\n",
    "    for call_log in call_logs:\n",
    "        if len(call_log) > 0:  # filter the users that don't have a call log\n",
    "            df_call = pd.read_json(call_log[0])\n",
    "            if len(df_call) > 0:  #  if not empty call logs, accumlate count\n",
    "                durations += df_call.duration.values.tolist()\n",
    "    calls_data.append({'user_id':uid, 'average_call_duration':np.mean(durations)})\n",
    "print len(calls_data)\n",
    "print 'runtime %.2f' %(time.time() - start_time)"
   ]
  },
  {
   "cell_type": "code",
   "execution_count": 140,
   "metadata": {
    "collapsed": false
   },
   "outputs": [
    {
     "data": {
      "text/html": [
       "<div>\n",
       "<table border=\"1\" class=\"dataframe\">\n",
       "  <thead>\n",
       "    <tr>\n",
       "      <th></th>\n",
       "      <th>loan_status</th>\n",
       "      <th colspan=\"4\" halign=\"left\">average_call_duration</th>\n",
       "    </tr>\n",
       "    <tr>\n",
       "      <th></th>\n",
       "      <th></th>\n",
       "      <th>min</th>\n",
       "      <th>mean</th>\n",
       "      <th>max</th>\n",
       "      <th>std</th>\n",
       "    </tr>\n",
       "  </thead>\n",
       "  <tbody>\n",
       "    <tr>\n",
       "      <th>0</th>\n",
       "      <td>defaulted</td>\n",
       "      <td>6.490637</td>\n",
       "      <td>40.180981</td>\n",
       "      <td>254.218045</td>\n",
       "      <td>26.780274</td>\n",
       "    </tr>\n",
       "    <tr>\n",
       "      <th>1</th>\n",
       "      <td>repaid</td>\n",
       "      <td>5.222051</td>\n",
       "      <td>43.014949</td>\n",
       "      <td>120.520807</td>\n",
       "      <td>19.844953</td>\n",
       "    </tr>\n",
       "  </tbody>\n",
       "</table>\n",
       "</div>"
      ],
      "text/plain": [
       "  loan_status average_call_duration                                  \n",
       "                                min       mean         max        std\n",
       "0   defaulted              6.490637  40.180981  254.218045  26.780274\n",
       "1      repaid              5.222051  43.014949  120.520807  19.844953"
      ]
     },
     "execution_count": 140,
     "metadata": {},
     "output_type": "execute_result"
    }
   ],
   "source": [
    "calls_data = pd.DataFrame(calls_data)\n",
    "calls_data = calls_data.merge(df[['user_id', 'loan_status']], how = 'inner', on = 'user_id')\n",
    "\n",
    "grouped_calls = calls_data[['loan_status', 'average_call_duration']].groupby('loan_status').agg(['min', 'mean','max', 'std']).reset_index()\n",
    "grouped_calls"
   ]
  },
  {
   "cell_type": "markdown",
   "metadata": {},
   "source": [
    "# Number of devices"
   ]
  },
  {
   "cell_type": "code",
   "execution_count": 148,
   "metadata": {
    "collapsed": false
   },
   "outputs": [
    {
     "name": "stdout",
     "output_type": "stream",
     "text": [
      "400\n",
      "runtime 0.08\n"
     ]
    }
   ],
   "source": [
    "start_time = time.time()\n",
    "number_of_devices = []\n",
    "for uid in user_ids:\n",
    "    devices = glob.glob('../logs/user-%d/*' %uid)\n",
    "    number_of_devices.append({'user_id':uid, 'number_of_devices':len(devices)})\n",
    "print len(number_of_devices)\n",
    "print 'runtime %.2f' %(time.time() - start_time)"
   ]
  },
  {
   "cell_type": "code",
   "execution_count": 153,
   "metadata": {
    "collapsed": false
   },
   "outputs": [
    {
     "data": {
      "text/html": [
       "<div>\n",
       "<table border=\"1\" class=\"dataframe\">\n",
       "  <thead>\n",
       "    <tr>\n",
       "      <th></th>\n",
       "      <th>loan_status</th>\n",
       "      <th colspan=\"4\" halign=\"left\">number_of_devices</th>\n",
       "    </tr>\n",
       "    <tr>\n",
       "      <th></th>\n",
       "      <th></th>\n",
       "      <th>min</th>\n",
       "      <th>mean</th>\n",
       "      <th>max</th>\n",
       "      <th>std</th>\n",
       "    </tr>\n",
       "  </thead>\n",
       "  <tbody>\n",
       "    <tr>\n",
       "      <th>0</th>\n",
       "      <td>defaulted</td>\n",
       "      <td>1</td>\n",
       "      <td>1.195</td>\n",
       "      <td>4</td>\n",
       "      <td>0.477614</td>\n",
       "    </tr>\n",
       "    <tr>\n",
       "      <th>1</th>\n",
       "      <td>repaid</td>\n",
       "      <td>1</td>\n",
       "      <td>1.500</td>\n",
       "      <td>10</td>\n",
       "      <td>1.177682</td>\n",
       "    </tr>\n",
       "  </tbody>\n",
       "</table>\n",
       "</div>"
      ],
      "text/plain": [
       "  loan_status number_of_devices                     \n",
       "                            min   mean max       std\n",
       "0   defaulted                 1  1.195   4  0.477614\n",
       "1      repaid                 1  1.500  10  1.177682"
      ]
     },
     "execution_count": 153,
     "metadata": {},
     "output_type": "execute_result"
    }
   ],
   "source": [
    "number_of_devices = pd.DataFrame(number_of_devices)\n",
    "number_of_devices = number_of_devices.merge(df[['user_id', 'loan_status']], how = 'inner', on = 'user_id')\n",
    "grouped_devices = number_of_devices[['loan_status', 'number_of_devices']].groupby('loan_status').agg(['min', 'mean','max', 'std']).reset_index()\n",
    "grouped_devices"
   ]
  },
  {
   "cell_type": "code",
   "execution_count": null,
   "metadata": {
    "collapsed": true
   },
   "outputs": [],
   "source": []
  },
  {
   "cell_type": "code",
   "execution_count": null,
   "metadata": {
    "collapsed": true
   },
   "outputs": [],
   "source": [
    "# Any text from Branch about late payment?\n",
    "\n",
    "# For this hypothesis, I will filter the sms logs by sms_address = 'Branch-Co' \n",
    "# and the message body contains the word 'late'\n",
    "\n",
    "branch_late_data = []\n",
    "for uid in user_ids:\n",
    "    devices = glob.glob('../logs/user-%d/*' %uid)\n",
    "    sms_logs = []\n",
    "    sms_logs += [glob.glob(d+'/collated_sms_log.txt') for d in devices]\n",
    "    branch_late_text = 0\n",
    "    for sms_log in sms_logs:\n",
    "        if len(sms_log) > 0:  # filter the users that don't have a sms log\n",
    "            df_sms = pd.read_json(sms_log[0])\n",
    "            if len(df_sms) > 0:  #  if not empty sms logs, accumlate count\n",
    "                df_sms['sms_address'] = df_sms['sms_address'].to_string()\n",
    "                from_branch = df_sms[df_sms['sms_address'] == 'Branch-Co']\n",
    "                count_late_from_branch += sum(from_branch['message_body'].str.contains('late'))\n",
    "        del df_sms, from_branch\n",
    "    branch_late_data.append({'user_id':uid, 'total_late_text_from_branch':count_late_from_branch})\n",
    "print len(branch_late_data)"
   ]
  }
 ],
 "metadata": {
  "kernelspec": {
   "display_name": "Python 2",
   "language": "python",
   "name": "python2"
  },
  "language_info": {
   "codemirror_mode": {
    "name": "ipython",
    "version": 2
   },
   "file_extension": ".py",
   "mimetype": "text/x-python",
   "name": "python",
   "nbconvert_exporter": "python",
   "pygments_lexer": "ipython2",
   "version": "2.7.11"
  }
 },
 "nbformat": 4,
 "nbformat_minor": 0
}
