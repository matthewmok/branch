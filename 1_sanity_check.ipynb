{
 "cells": [
  {
   "cell_type": "markdown",
   "metadata": {},
   "source": [
    "# Note on some columns meaning:\n",
    "\n",
    "In the calls log:\n",
    "\n",
    "    - call types: 1:incoming, 2:outgoing, 3:missed\n",
    "    - is_read: whether the user has interact with the entry\n",
    "    \n",
    "In the contacts log:\n",
    "\n",
    "    - times_contacted: just count of call for the specific contact\n",
    "    \n",
    "In the sms logs:\n",
    "    \n",
    "    - sms_type: 0:all, 1:inbox, 2:sent, 3:draft, 4:outbox, 5:failed, 6:queued"
   ]
  },
  {
   "cell_type": "code",
   "execution_count": 195,
   "metadata": {
    "collapsed": false
   },
   "outputs": [],
   "source": [
    "import pandas as pd\n",
    "import numpy as np\n",
    "import glob\n",
    "\n",
    "from collections import Counter\n",
    "\n",
    "import matplotlib.pyplot as plt\n",
    "%matplotlib inline"
   ]
  },
  {
   "cell_type": "code",
   "execution_count": 3,
   "metadata": {
    "collapsed": false
   },
   "outputs": [],
   "source": [
    "df_from_csv = pd.read_csv('../logs/users.csv')\n",
    "df_from_json = pd.read_json('../logs/users.json')"
   ]
  },
  {
   "cell_type": "code",
   "execution_count": 15,
   "metadata": {
    "collapsed": false
   },
   "outputs": [
    {
     "data": {
      "text/html": [
       "<div>\n",
       "<table border=\"1\" class=\"dataframe\">\n",
       "  <thead>\n",
       "    <tr style=\"text-align: right;\">\n",
       "      <th></th>\n",
       "      <th>user_id</th>\n",
       "      <th>disbursed_at</th>\n",
       "      <th>loan_status</th>\n",
       "    </tr>\n",
       "  </thead>\n",
       "  <tbody>\n",
       "    <tr>\n",
       "      <th>0</th>\n",
       "      <td>1</td>\n",
       "      <td>2017-03-02T00:00:00.000Z</td>\n",
       "      <td>repaid</td>\n",
       "    </tr>\n",
       "    <tr>\n",
       "      <th>1</th>\n",
       "      <td>2</td>\n",
       "      <td>2017-03-01T00:00:00.000Z</td>\n",
       "      <td>defaulted</td>\n",
       "    </tr>\n",
       "    <tr>\n",
       "      <th>2</th>\n",
       "      <td>3</td>\n",
       "      <td>2017-03-02T00:00:00.000Z</td>\n",
       "      <td>repaid</td>\n",
       "    </tr>\n",
       "  </tbody>\n",
       "</table>\n",
       "</div>"
      ],
      "text/plain": [
       "   user_id              disbursed_at loan_status\n",
       "0        1  2017-03-02T00:00:00.000Z      repaid\n",
       "1        2  2017-03-01T00:00:00.000Z   defaulted\n",
       "2        3  2017-03-02T00:00:00.000Z      repaid"
      ]
     },
     "execution_count": 15,
     "metadata": {},
     "output_type": "execute_result"
    }
   ],
   "source": [
    "df_from_csv.head(3)"
   ]
  },
  {
   "cell_type": "code",
   "execution_count": 16,
   "metadata": {
    "collapsed": false
   },
   "outputs": [
    {
     "data": {
      "text/html": [
       "<div>\n",
       "<table border=\"1\" class=\"dataframe\">\n",
       "  <thead>\n",
       "    <tr style=\"text-align: right;\">\n",
       "      <th></th>\n",
       "      <th>disbursed_at</th>\n",
       "      <th>loan_status</th>\n",
       "      <th>user_id</th>\n",
       "    </tr>\n",
       "  </thead>\n",
       "  <tbody>\n",
       "    <tr>\n",
       "      <th>0</th>\n",
       "      <td>2017-03-02</td>\n",
       "      <td>repaid</td>\n",
       "      <td>1</td>\n",
       "    </tr>\n",
       "    <tr>\n",
       "      <th>1</th>\n",
       "      <td>2017-03-01</td>\n",
       "      <td>defaulted</td>\n",
       "      <td>2</td>\n",
       "    </tr>\n",
       "    <tr>\n",
       "      <th>2</th>\n",
       "      <td>2017-03-02</td>\n",
       "      <td>repaid</td>\n",
       "      <td>3</td>\n",
       "    </tr>\n",
       "  </tbody>\n",
       "</table>\n",
       "</div>"
      ],
      "text/plain": [
       "  disbursed_at loan_status  user_id\n",
       "0   2017-03-02      repaid        1\n",
       "1   2017-03-01   defaulted        2\n",
       "2   2017-03-02      repaid        3"
      ]
     },
     "execution_count": 16,
     "metadata": {},
     "output_type": "execute_result"
    }
   ],
   "source": [
    "df_from_json.head(3)"
   ]
  },
  {
   "cell_type": "code",
   "execution_count": 9,
   "metadata": {
    "collapsed": false
   },
   "outputs": [
    {
     "data": {
      "text/plain": [
       "Counter({Timestamp('2017-03-01 00:00:00'): 67,\n",
       "         Timestamp('2017-03-02 00:00:00'): 333})"
      ]
     },
     "execution_count": 9,
     "metadata": {},
     "output_type": "execute_result"
    }
   ],
   "source": [
    "Counter(df_from_json.disbursed_at)"
   ]
  },
  {
   "cell_type": "code",
   "execution_count": 10,
   "metadata": {
    "collapsed": false
   },
   "outputs": [
    {
     "data": {
      "text/plain": [
       "Counter({'2017-03-01T00:00:00.000Z': 67, '2017-03-02T00:00:00.000Z': 333})"
      ]
     },
     "execution_count": 10,
     "metadata": {},
     "output_type": "execute_result"
    }
   ],
   "source": [
    "Counter(df_from_csv.disbursed_at)"
   ]
  },
  {
   "cell_type": "code",
   "execution_count": 14,
   "metadata": {
    "collapsed": false
   },
   "outputs": [
    {
     "data": {
      "text/plain": [
       "(400, 400)"
      ]
     },
     "execution_count": 14,
     "metadata": {},
     "output_type": "execute_result"
    }
   ],
   "source": [
    "sum(df_from_csv.user_id == df_from_json.user_id), sum(df_from_csv.loan_status == df_from_json.loan_status)"
   ]
  },
  {
   "cell_type": "markdown",
   "metadata": {},
   "source": [
    "Looks like the users.csv and users.json contain the same data of the load status and disbursment time of users with id from 1-400, so I will go ahead to use the users.csv"
   ]
  },
  {
   "cell_type": "code",
   "execution_count": 94,
   "metadata": {
    "collapsed": false
   },
   "outputs": [
    {
     "data": {
      "text/plain": [
       "Counter({'defaulted': 200, 'repaid': 200})"
      ]
     },
     "execution_count": 94,
     "metadata": {},
     "output_type": "execute_result"
    }
   ],
   "source": [
    "Counter(df_from_csv.loan_status)"
   ]
  },
  {
   "cell_type": "markdown",
   "metadata": {},
   "source": [
    "# Looking at the data of user 164"
   ]
  },
  {
   "cell_type": "code",
   "execution_count": 203,
   "metadata": {
    "collapsed": false
   },
   "outputs": [
    {
     "data": {
      "text/plain": [
       "[['../logs/user-164/device-1/collated_call_log.txt',\n",
       "  '../logs/user-164/device-1/collated_contact_list.txt',\n",
       "  '../logs/user-164/device-1/collated_sms_log.txt'],\n",
       " ['../logs/user-164/device-2/collated_call_log.txt',\n",
       "  '../logs/user-164/device-2/collated_contact_list.txt',\n",
       "  '../logs/user-164/device-2/collated_sms_log.txt']]"
      ]
     },
     "execution_count": 203,
     "metadata": {},
     "output_type": "execute_result"
    }
   ],
   "source": [
    "uid = 164  # picked this user because it has 2 devices\n",
    "devices = glob.glob('../logs/user-%d/*' %uid)\n",
    "devices_data = [glob.glob(i+'/*.txt') for i in devices]\n",
    "devices_data"
   ]
  },
  {
   "cell_type": "code",
   "execution_count": 154,
   "metadata": {
    "collapsed": false
   },
   "outputs": [
    {
     "data": {
      "text/html": [
       "<div>\n",
       "<table border=\"1\" class=\"dataframe\">\n",
       "  <thead>\n",
       "    <tr style=\"text-align: right;\">\n",
       "      <th></th>\n",
       "      <th>user_id</th>\n",
       "      <th>disbursed_at</th>\n",
       "      <th>loan_status</th>\n",
       "      <th>number_of_devices</th>\n",
       "      <th>repaid</th>\n",
       "    </tr>\n",
       "  </thead>\n",
       "  <tbody>\n",
       "    <tr>\n",
       "      <th>163</th>\n",
       "      <td>164</td>\n",
       "      <td>2017-03-02T00:00:00.000Z</td>\n",
       "      <td>repaid</td>\n",
       "      <td>2</td>\n",
       "      <td>True</td>\n",
       "    </tr>\n",
       "  </tbody>\n",
       "</table>\n",
       "</div>"
      ],
      "text/plain": [
       "     user_id              disbursed_at loan_status  number_of_devices repaid\n",
       "163      164  2017-03-02T00:00:00.000Z      repaid                  2   True"
      ]
     },
     "execution_count": 154,
     "metadata": {},
     "output_type": "execute_result"
    }
   ],
   "source": [
    "df_from_csv[df_from_csv['user_id'] == 164]"
   ]
  },
  {
   "cell_type": "markdown",
   "metadata": {},
   "source": [
    "# Device 1 of uid 164"
   ]
  },
  {
   "cell_type": "code",
   "execution_count": 204,
   "metadata": {
    "collapsed": false
   },
   "outputs": [
    {
     "data": {
      "text/html": [
       "<div>\n",
       "<table border=\"1\" class=\"dataframe\">\n",
       "  <thead>\n",
       "    <tr style=\"text-align: right;\">\n",
       "      <th></th>\n",
       "      <th>cached_name</th>\n",
       "      <th>call_type</th>\n",
       "      <th>country_iso</th>\n",
       "      <th>data_usage</th>\n",
       "      <th>datetime</th>\n",
       "      <th>duration</th>\n",
       "      <th>features_video</th>\n",
       "      <th>geocoded_location</th>\n",
       "      <th>is_read</th>\n",
       "      <th>item_id</th>\n",
       "      <th>phone_number</th>\n",
       "    </tr>\n",
       "  </thead>\n",
       "  <tbody>\n",
       "    <tr>\n",
       "      <th>0</th>\n",
       "      <td>Mum</td>\n",
       "      <td>2</td>\n",
       "      <td>KE</td>\n",
       "      <td>0</td>\n",
       "      <td>2017-04-26 17:27:26.907</td>\n",
       "      <td>201</td>\n",
       "      <td>False</td>\n",
       "      <td>Kenya</td>\n",
       "      <td>False</td>\n",
       "      <td>31</td>\n",
       "      <td>710461743</td>\n",
       "    </tr>\n",
       "    <tr>\n",
       "      <th>1</th>\n",
       "      <td>Ma Reu</td>\n",
       "      <td>2</td>\n",
       "      <td>KE</td>\n",
       "      <td>0</td>\n",
       "      <td>2017-04-26 17:22:56.508</td>\n",
       "      <td>172</td>\n",
       "      <td>False</td>\n",
       "      <td>Kenya</td>\n",
       "      <td>False</td>\n",
       "      <td>30</td>\n",
       "      <td>254650162978</td>\n",
       "    </tr>\n",
       "    <tr>\n",
       "      <th>2</th>\n",
       "      <td>Akiteles</td>\n",
       "      <td>2</td>\n",
       "      <td>KE</td>\n",
       "      <td>0</td>\n",
       "      <td>2017-04-26 17:22:01.934</td>\n",
       "      <td>0</td>\n",
       "      <td>False</td>\n",
       "      <td>Kenya</td>\n",
       "      <td>False</td>\n",
       "      <td>29</td>\n",
       "      <td>718742916</td>\n",
       "    </tr>\n",
       "    <tr>\n",
       "      <th>3</th>\n",
       "      <td>Akiteles</td>\n",
       "      <td>2</td>\n",
       "      <td>KE</td>\n",
       "      <td>0</td>\n",
       "      <td>2017-04-26 17:12:04.462</td>\n",
       "      <td>0</td>\n",
       "      <td>False</td>\n",
       "      <td>Kenya</td>\n",
       "      <td>False</td>\n",
       "      <td>28</td>\n",
       "      <td>718742916</td>\n",
       "    </tr>\n",
       "    <tr>\n",
       "      <th>4</th>\n",
       "      <td>Akiteles</td>\n",
       "      <td>2</td>\n",
       "      <td>KE</td>\n",
       "      <td>0</td>\n",
       "      <td>2017-04-26 17:10:03.791</td>\n",
       "      <td>0</td>\n",
       "      <td>False</td>\n",
       "      <td>Kenya</td>\n",
       "      <td>False</td>\n",
       "      <td>27</td>\n",
       "      <td>718742916</td>\n",
       "    </tr>\n",
       "  </tbody>\n",
       "</table>\n",
       "</div>"
      ],
      "text/plain": [
       "  cached_name  call_type country_iso  data_usage                datetime  \\\n",
       "0         Mum          2          KE           0 2017-04-26 17:27:26.907   \n",
       "1      Ma Reu          2          KE           0 2017-04-26 17:22:56.508   \n",
       "2    Akiteles          2          KE           0 2017-04-26 17:22:01.934   \n",
       "3    Akiteles          2          KE           0 2017-04-26 17:12:04.462   \n",
       "4    Akiteles          2          KE           0 2017-04-26 17:10:03.791   \n",
       "\n",
       "   duration features_video geocoded_location is_read  item_id  phone_number  \n",
       "0       201          False             Kenya   False       31     710461743  \n",
       "1       172          False             Kenya   False       30  254650162978  \n",
       "2         0          False             Kenya   False       29     718742916  \n",
       "3         0          False             Kenya   False       28     718742916  \n",
       "4         0          False             Kenya   False       27     718742916  "
      ]
     },
     "execution_count": 204,
     "metadata": {},
     "output_type": "execute_result"
    }
   ],
   "source": [
    "dv1_call = pd.read_json(devices_data[0][0])\n",
    "dv1_call.head(5)"
   ]
  },
  {
   "cell_type": "code",
   "execution_count": 158,
   "metadata": {
    "collapsed": false,
    "scrolled": true
   },
   "outputs": [
    {
     "data": {
      "text/plain": [
       "Counter({nan: 327,\n",
       "         u'*128*0772031155': 2,\n",
       "         u'0790 659030': 79,\n",
       "         u'128772031155': 1,\n",
       "         u'AMENELE G': 2,\n",
       "         u'ARYNE K': 1,\n",
       "         u'Abu': 1,\n",
       "         u'Achichi': 1,\n",
       "         u'Akine': 2,\n",
       "         u'Akiteles': 5,\n",
       "         u'Aledi': 28,\n",
       "         u'Alex!': 7,\n",
       "         u'Alex-aitel': 1,\n",
       "         u'Alicia': 3,\n",
       "         u'Amnyatap!': 2,\n",
       "         u'Andrew Kapelo': 12,\n",
       "         u'Anyik!': 3,\n",
       "         u'Apostle Ben': 2,\n",
       "         u'Arot': 4,\n",
       "         u'Arotic': 1,\n",
       "         u'Arshley': 4,\n",
       "         u'Ashley!': 1,\n",
       "         u'Atabo Emar': 16,\n",
       "         u'Atash': 19,\n",
       "         u'Athkon': 1,\n",
       "         u\"BA'ryan\": 1,\n",
       "         u'BARNABAS K': 1,\n",
       "         u'BETTY L': 2,\n",
       "         u'Ba Chero': 1,\n",
       "         u'Baba Ipae': 7,\n",
       "         u'Baba!': 2,\n",
       "         u'Babaikimat': 1,\n",
       "         u'Becky': 4,\n",
       "         u'Benja': 2,\n",
       "         u'Benny': 1,\n",
       "         u'Bentar siz': 5,\n",
       "         u'Bony!': 2,\n",
       "         u'Brian-ikuku': 2,\n",
       "         u'Bro Davi': 3,\n",
       "         u'Bro Eli': 4,\n",
       "         u'Bro Gary': 13,\n",
       "         u'CATHERINE L': 1,\n",
       "         u'CHARLES N': 1,\n",
       "         u'Cheboi!': 4,\n",
       "         u'Cheeeege!': 8,\n",
       "         u'Chege Boda': 9,\n",
       "         u'Claz Rep Faith': 1,\n",
       "         u'Cuz Rael': 4,\n",
       "         u'DOKE J -2': 1,\n",
       "         u'DORCAS A': 11,\n",
       "         u'Dad': 32,\n",
       "         u'Dan Emuria': 2,\n",
       "         u'DanDan!': 4,\n",
       "         u'Darius': 10,\n",
       "         u'David Ekih': 4,\n",
       "         u'De World': 1,\n",
       "         u'Dibo': 5,\n",
       "         u'Dorin-shauri': 1,\n",
       "         u'Dorrine': 3,\n",
       "         u'Dorry': 3,\n",
       "         u'Doryy': 3,\n",
       "         u'E Darius': 1,\n",
       "         u'EDEKE F': 1,\n",
       "         u'EJORE J': 29,\n",
       "         u'ELIUD E': 6,\n",
       "         u'Earlyman': 1,\n",
       "         u'Eileen': 2,\n",
       "         u'Ejoh!': 3,\n",
       "         u'Ekai Mike!': 1,\n",
       "         u'Eliud': 3,\n",
       "         u'Esther!': 2,\n",
       "         u'Eunice Ebei': 111,\n",
       "         u'Ezzien': 1,\n",
       "         u'Flo': 1,\n",
       "         u'Franko': 2,\n",
       "         u'Frnk!': 1,\n",
       "         u'Gabby': 9,\n",
       "         u'Gary Gary!': 9,\n",
       "         u'Gasper': 1,\n",
       "         u'Geofree!': 1,\n",
       "         u'Hellen': 5,\n",
       "         u'Hr Nancy': 1,\n",
       "         u'Hr- Minstry Of Water': 2,\n",
       "         u'Hubby': 19,\n",
       "         u'Humpho': 3,\n",
       "         u'I piuz': 1,\n",
       "         u'Ibongon': 1,\n",
       "         u'Idoky': 3,\n",
       "         u'Ijuma': 1,\n",
       "         u'Imma!': 1,\n",
       "         u'Ishee 2': 2,\n",
       "         u'Itabo Shee': 7,\n",
       "         u'J Doke-or': 2,\n",
       "         u'J Koitan!': 4,\n",
       "         u'James Ebongon': 8,\n",
       "         u'Jane-westy!': 1,\n",
       "         u'Jedida!': 1,\n",
       "         u'Joel': 7,\n",
       "         u'Johnny': 3,\n",
       "         u'Jon-ngapakin': 3,\n",
       "         u'Joneee!': 1,\n",
       "         u'KK': 1,\n",
       "         u'Kathrene!': 3,\n",
       "         u'Katodi': 18,\n",
       "         u'Keitani': 1,\n",
       "         u'Keitany': 1,\n",
       "         u'Kevoh-orange': 4,\n",
       "         u'Kevohhh': 1,\n",
       "         u'Kkma': 5,\n",
       "         u'Knight': 12,\n",
       "         u'Korodi': 2,\n",
       "         u'L Betty': 3,\n",
       "         u'L esther': 2,\n",
       "         u'LYDIA N': 35,\n",
       "         u'Law': 2,\n",
       "         u'Liz-sekon': 17,\n",
       "         u'Lizzz': 8,\n",
       "         u'Lochilia E': 2,\n",
       "         u'Lodite': 24,\n",
       "         u'Lokol Thomas': 3,\n",
       "         u'Lokpe': 1,\n",
       "         u'Lokwawi!': 13,\n",
       "         u'Lomodei-poly': 1,\n",
       "         u'Lorukia': 2,\n",
       "         u'Losiru Dan': 2,\n",
       "         u'Lotiman': 8,\n",
       "         u'Lotot': 4,\n",
       "         u'M Koech!': 1,\n",
       "         u'Ma Brandy': 39,\n",
       "         u'Ma Imuse': 2,\n",
       "         u'Ma Reu': 17,\n",
       "         u'Ma Rihanna': 8,\n",
       "         u'Ma videl': 1,\n",
       "         u\"Ma'Berly\": 3,\n",
       "         u\"Ma'lincy\": 1,\n",
       "         u'Maaaaaaanu': 3,\n",
       "         u'Mama Dama': 1,\n",
       "         u'Mama Max!': 1,\n",
       "         u'Mama!': 6,\n",
       "         u'Manager- Asis': 7,\n",
       "         u'Mandela': 1,\n",
       "         u'Mannu': 1,\n",
       "         u'Manu-poly': 1,\n",
       "         u'Marion!': 3,\n",
       "         u'Mathe': 10,\n",
       "         u'Mc Raphar_ Or': 4,\n",
       "         u'Mchere': 1,\n",
       "         u'Melvine': 1,\n",
       "         u'Mike Moi': 1,\n",
       "         u'Mum': 30,\n",
       "         u'Mum GHM': 2,\n",
       "         u'Mum\"Dira': 3,\n",
       "         u'Mum- Landlord!': 1,\n",
       "         u'My Love': 2,\n",
       "         u'My Sweet Love': 55,\n",
       "         u'My Sweet love': 35,\n",
       "         u'O Mike': 12,\n",
       "         u'Oneh': 20,\n",
       "         u'Opuru Moses': 1,\n",
       "         u'Pastor Richy': 3,\n",
       "         u'Penina': 1,\n",
       "         u'Pius': 2,\n",
       "         u'RAEL A': 27,\n",
       "         u'Rafael': 5,\n",
       "         u'Rapho': 1,\n",
       "         u'Rchy!': 12,\n",
       "         u'Regina Ibongon': 4,\n",
       "         u'Reu': 23,\n",
       "         u'Reunice': 393,\n",
       "         u'Rosekuchal': 4,\n",
       "         u'S Millicent': 13,\n",
       "         u'SEKON P': 4,\n",
       "         u'Sab': 1,\n",
       "         u'Sam-poly': 4,\n",
       "         u'Sarafina-poly': 1,\n",
       "         u'Sari': 1,\n",
       "         u'Sharon': 3,\n",
       "         u'Shar\\xf6n': 1,\n",
       "         u'Shee Sabina': 6,\n",
       "         u'Simuyu': 1,\n",
       "         u'Siz 1': 16,\n",
       "         u'Siz Benta': 16,\n",
       "         u'Siz Itabo': 2,\n",
       "         u'Siz Pasco': 39,\n",
       "         u'Sussy': 22,\n",
       "         u'Susy': 13,\n",
       "         u'Susy 2': 1,\n",
       "         u'The Brd': 3,\n",
       "         u'Timo Bro': 6,\n",
       "         u'Tony!': 8,\n",
       "         u'Uncle Lowoton': 3,\n",
       "         u'Uncle Namoru': 9,\n",
       "         u'Unclestone': 15,\n",
       "         u'Veroh-poly': 2,\n",
       "         u'Vicky': 2,\n",
       "         u'Victor Masai': 16,\n",
       "         u'Wilfrida': 4,\n",
       "         u'Xam!': 1,\n",
       "         u'Xhee': 5,\n",
       "         u'Yele': 4,\n",
       "         u'mose!': 3,\n",
       "         u'siz ijuma': 4})"
      ]
     },
     "execution_count": 158,
     "metadata": {},
     "output_type": "execute_result"
    }
   ],
   "source": [
    "Counter(dv1_call.cached_name)"
   ]
  },
  {
   "cell_type": "code",
   "execution_count": 157,
   "metadata": {
    "collapsed": false
   },
   "outputs": [
    {
     "name": "stdout",
     "output_type": "stream",
     "text": [
      "Counter({False: 2098})\n",
      "Counter({False: 1343, True: 755})\n"
     ]
    }
   ],
   "source": [
    "print Counter(dv1_call.features_video)\n",
    "print Counter(dv1_call.is_read)"
   ]
  },
  {
   "cell_type": "code",
   "execution_count": 205,
   "metadata": {
    "collapsed": false
   },
   "outputs": [
    {
     "data": {
      "text/plain": [
       "(Timestamp('2017-02-16 09:52:19.049000'),\n",
       " Timestamp('2017-04-26 17:27:26.907000'))"
      ]
     },
     "execution_count": 205,
     "metadata": {},
     "output_type": "execute_result"
    }
   ],
   "source": [
    "dv1_call['datetime'] = pd.to_datetime(dv1_call['datetime'])\n",
    "min(dv1_call['datetime']), max(dv1_call['datetime'])"
   ]
  },
  {
   "cell_type": "code",
   "execution_count": 206,
   "metadata": {
    "collapsed": false
   },
   "outputs": [
    {
     "data": {
      "text/plain": [
       "44.785033365109626"
      ]
     },
     "execution_count": 206,
     "metadata": {},
     "output_type": "execute_result"
    }
   ],
   "source": [
    "np.mean(dv1_call.duration)"
   ]
  },
  {
   "cell_type": "code",
   "execution_count": 110,
   "metadata": {
    "collapsed": false
   },
   "outputs": [
    {
     "data": {
      "text/html": [
       "<div>\n",
       "<table border=\"1\" class=\"dataframe\">\n",
       "  <thead>\n",
       "    <tr style=\"text-align: right;\">\n",
       "      <th></th>\n",
       "      <th>display_name</th>\n",
       "      <th>item_id</th>\n",
       "      <th>last_time_contacted</th>\n",
       "      <th>phone_numbers</th>\n",
       "      <th>photo_id</th>\n",
       "      <th>times_contacted</th>\n",
       "    </tr>\n",
       "  </thead>\n",
       "  <tbody>\n",
       "    <tr>\n",
       "      <th>0</th>\n",
       "      <td>Akiteles</td>\n",
       "      <td>1271</td>\n",
       "      <td>1493227362262</td>\n",
       "      <td>[{u'item_id': 2595, u'normalized_phone_number'...</td>\n",
       "      <td>NaN</td>\n",
       "      <td>6</td>\n",
       "    </tr>\n",
       "    <tr>\n",
       "      <th>1</th>\n",
       "      <td>Robert  Ekeno</td>\n",
       "      <td>1272</td>\n",
       "      <td>0</td>\n",
       "      <td>[{u'item_id': 2546, u'normalized_phone_number'...</td>\n",
       "      <td>NaN</td>\n",
       "      <td>0</td>\n",
       "    </tr>\n",
       "    <tr>\n",
       "      <th>2</th>\n",
       "      <td>Bentar siz</td>\n",
       "      <td>1273</td>\n",
       "      <td>1493225220050</td>\n",
       "      <td>[{u'item_id': 5485, u'normalized_phone_number'...</td>\n",
       "      <td>NaN</td>\n",
       "      <td>12</td>\n",
       "    </tr>\n",
       "  </tbody>\n",
       "</table>\n",
       "</div>"
      ],
      "text/plain": [
       "    display_name  item_id  last_time_contacted  \\\n",
       "0       Akiteles     1271        1493227362262   \n",
       "1  Robert  Ekeno     1272                    0   \n",
       "2     Bentar siz     1273        1493225220050   \n",
       "\n",
       "                                       phone_numbers  photo_id  \\\n",
       "0  [{u'item_id': 2595, u'normalized_phone_number'...       NaN   \n",
       "1  [{u'item_id': 2546, u'normalized_phone_number'...       NaN   \n",
       "2  [{u'item_id': 5485, u'normalized_phone_number'...       NaN   \n",
       "\n",
       "   times_contacted  \n",
       "0                6  \n",
       "1                0  \n",
       "2               12  "
      ]
     },
     "execution_count": 110,
     "metadata": {},
     "output_type": "execute_result"
    }
   ],
   "source": [
    "dv1_contact = pd.read_json(devices_data[0][1])\n",
    "dv1_contact.head(3)"
   ]
  },
  {
   "cell_type": "code",
   "execution_count": 131,
   "metadata": {
    "collapsed": false
   },
   "outputs": [
    {
     "name": "stdout",
     "output_type": "stream",
     "text": [
      "[{u'item_id': 2595, u'normalized_phone_number': u'+254054247283', u'phone_number': u'0718742916'}]\n",
      "[{u'item_id': 2546, u'normalized_phone_number': u'+254711346911', u'phone_number': u'+254711346911'}]\n",
      "[{u'item_id': 5485, u'normalized_phone_number': u'+254323976446', u'phone_number': u'0707379138'}]\n"
     ]
    }
   ],
   "source": [
    "for i in dv1_contact.phone_numbers.head(3).values:\n",
    "    print i"
   ]
  },
  {
   "cell_type": "code",
   "execution_count": 177,
   "metadata": {
    "collapsed": false,
    "scrolled": true
   },
   "outputs": [
    {
     "data": {
      "text/html": [
       "<div>\n",
       "<table border=\"1\" class=\"dataframe\">\n",
       "  <thead>\n",
       "    <tr style=\"text-align: right;\">\n",
       "      <th></th>\n",
       "      <th>contact_id</th>\n",
       "      <th>datetime</th>\n",
       "      <th>item_id</th>\n",
       "      <th>message_body</th>\n",
       "      <th>sms_address</th>\n",
       "      <th>sms_type</th>\n",
       "      <th>thread_id</th>\n",
       "    </tr>\n",
       "  </thead>\n",
       "  <tbody>\n",
       "    <tr>\n",
       "      <th>0</th>\n",
       "      <td>0</td>\n",
       "      <td>2017-04-10 19:23:38.183</td>\n",
       "      <td>28841</td>\n",
       "      <td>Congratulations! You have received  60.00 KSH ...</td>\n",
       "      <td>Safaricom</td>\n",
       "      <td>1</td>\n",
       "      <td>4034</td>\n",
       "    </tr>\n",
       "    <tr>\n",
       "      <th>1</th>\n",
       "      <td>0</td>\n",
       "      <td>2017-04-10 19:12:06.127</td>\n",
       "      <td>28840</td>\n",
       "      <td>I tried calling you at 21:29 on 10Apr  Please ...</td>\n",
       "      <td>0722252112</td>\n",
       "      <td>1</td>\n",
       "      <td>3963</td>\n",
       "    </tr>\n",
       "    <tr>\n",
       "      <th>2</th>\n",
       "      <td>0</td>\n",
       "      <td>2017-04-10 18:55:14.980</td>\n",
       "      <td>28839</td>\n",
       "      <td>Huku njeve kaka</td>\n",
       "      <td>+254068542642</td>\n",
       "      <td>1</td>\n",
       "      <td>3993</td>\n",
       "    </tr>\n",
       "  </tbody>\n",
       "</table>\n",
       "</div>"
      ],
      "text/plain": [
       "   contact_id                datetime  item_id  \\\n",
       "0           0 2017-04-10 19:23:38.183    28841   \n",
       "1           0 2017-04-10 19:12:06.127    28840   \n",
       "2           0 2017-04-10 18:55:14.980    28839   \n",
       "\n",
       "                                        message_body    sms_address  sms_type  \\\n",
       "0  Congratulations! You have received  60.00 KSH ...      Safaricom         1   \n",
       "1  I tried calling you at 21:29 on 10Apr  Please ...     0722252112         1   \n",
       "2                                    Huku njeve kaka  +254068542642         1   \n",
       "\n",
       "   thread_id  \n",
       "0       4034  \n",
       "1       3963  \n",
       "2       3993  "
      ]
     },
     "execution_count": 177,
     "metadata": {},
     "output_type": "execute_result"
    }
   ],
   "source": [
    "dv1_sms = pd.read_json(devices_data[0][2])\n",
    "dv1_sms.head(3)"
   ]
  },
  {
   "cell_type": "code",
   "execution_count": 159,
   "metadata": {
    "collapsed": false
   },
   "outputs": [
    {
     "data": {
      "text/plain": [
       "Counter({1: 2231, 2: 1971})"
      ]
     },
     "execution_count": 159,
     "metadata": {},
     "output_type": "execute_result"
    }
   ],
   "source": [
    "Counter(dv1_sms.sms_type)"
   ]
  },
  {
   "cell_type": "code",
   "execution_count": 178,
   "metadata": {
    "collapsed": false,
    "scrolled": true
   },
   "outputs": [
    {
     "data": {
      "text/plain": [
       "Counter({u'+254018678736': 8,\n",
       "         u'+254019610769': 2,\n",
       "         u'+254040858930': 2,\n",
       "         u'+254064603459': 130,\n",
       "         u'+254068542642': 60,\n",
       "         u'+254094120967': 3,\n",
       "         u'+254114737896': 90,\n",
       "         u'+254143913710': 4,\n",
       "         u'+254187686411': 12,\n",
       "         u'+254239703771': 3,\n",
       "         u'+254246932653': 3,\n",
       "         u'+254275145453': 2,\n",
       "         u'+254294618681': 2,\n",
       "         u'+254320142173': 20,\n",
       "         u'+254339916286': 1,\n",
       "         u'+254462379307': 8,\n",
       "         u'+254498363441': 2,\n",
       "         u'+254498932642': 230,\n",
       "         u'+254525302683': 3,\n",
       "         u'+254526557522': 4,\n",
       "         u'+254554142237': 3,\n",
       "         u'+254602353546': 2,\n",
       "         u'+254609264863': 20,\n",
       "         u'+254623639289': 1,\n",
       "         u'+254659306671': 2,\n",
       "         u'+254673666459': 6,\n",
       "         u'+254699736129': 3,\n",
       "         u'+254712306481': 12,\n",
       "         u'+254718270610': 2,\n",
       "         u'+254745852644': 64,\n",
       "         u'+254757189128': 140,\n",
       "         u'+254761014110': 8,\n",
       "         u'+254808049297': 2,\n",
       "         u'+254851818970': 26,\n",
       "         u'+254852244811': 5,\n",
       "         u'+254925322873': 13,\n",
       "         u'+254950606241': 48,\n",
       "         u'+254966248074': 1,\n",
       "         u'+256013492392': 1,\n",
       "         u'0700509460': 2,\n",
       "         u'0701752034': 1,\n",
       "         u'0705436467': 5,\n",
       "         u'0705539675': 6,\n",
       "         u'0706685753': 3,\n",
       "         u'0708775224': 4,\n",
       "         u'0712697190': 2,\n",
       "         u'0712716701': 1,\n",
       "         u'0713908633': 10,\n",
       "         u'0715655403': 2,\n",
       "         u'0716055174': 8,\n",
       "         u'0717190762': 5,\n",
       "         u'0722052351': 9,\n",
       "         u'0722252112': 9,\n",
       "         u'0722333399': 3,\n",
       "         u'0722527418': 1,\n",
       "         u'0723143418': 49,\n",
       "         u'0725467309': 53,\n",
       "         u'0725700032': 2,\n",
       "         u'0725845976': 1,\n",
       "         u'0726134723': 10,\n",
       "         u'0727346584': 3,\n",
       "         u'0727379185': 4,\n",
       "         u'0727597613': 2,\n",
       "         u'0729165469': 1,\n",
       "         u'0729236326': 1,\n",
       "         u'0729296823': 3,\n",
       "         u'0797234422': 4,\n",
       "         u'0799275972': 3,\n",
       "         u'100': 6,\n",
       "         u'111': 1,\n",
       "         u'144': 42,\n",
       "         u'21991': 1,\n",
       "         u'22430': 22,\n",
       "         u'22846': 1,\n",
       "         u'254260346760': 4,\n",
       "         u'29029': 6,\n",
       "         u'70555': 35,\n",
       "         u'79079': 12,\n",
       "         u'BETYETU': 1,\n",
       "         u'BLAZE': 8,\n",
       "         u'Branch-Co': 29,\n",
       "         u'ECITIZEN': 2,\n",
       "         u'ETOPUP': 1,\n",
       "         u'GetBucks': 1,\n",
       "         u'KCB M-PESA': 5,\n",
       "         u'M-Shwari': 7,\n",
       "         u'MPESA': 199,\n",
       "         u'SAFARICOM': 73,\n",
       "         u'Safaricom': 249,\n",
       "         u'Smartika': 2,\n",
       "         u'StarTimes': 3,\n",
       "         u'Verify': 1,\n",
       "         u'mCHEZA': 1})"
      ]
     },
     "execution_count": 178,
     "metadata": {},
     "output_type": "execute_result"
    }
   ],
   "source": [
    "Counter(dv1_sms.sms_address)"
   ]
  },
  {
   "cell_type": "markdown",
   "metadata": {},
   "source": [
    "# Device 2 of uid 164"
   ]
  },
  {
   "cell_type": "code",
   "execution_count": 116,
   "metadata": {
    "collapsed": false
   },
   "outputs": [
    {
     "data": {
      "text/html": [
       "<div>\n",
       "<table border=\"1\" class=\"dataframe\">\n",
       "  <thead>\n",
       "    <tr style=\"text-align: right;\">\n",
       "      <th></th>\n",
       "      <th>cached_name</th>\n",
       "      <th>call_type</th>\n",
       "      <th>country_iso</th>\n",
       "      <th>data_usage</th>\n",
       "      <th>datetime</th>\n",
       "      <th>duration</th>\n",
       "      <th>features_video</th>\n",
       "      <th>geocoded_location</th>\n",
       "      <th>is_read</th>\n",
       "      <th>item_id</th>\n",
       "      <th>phone_number</th>\n",
       "    </tr>\n",
       "  </thead>\n",
       "  <tbody>\n",
       "    <tr>\n",
       "      <th>0</th>\n",
       "      <td>Honey!</td>\n",
       "      <td>2</td>\n",
       "      <td>KE</td>\n",
       "      <td>0</td>\n",
       "      <td>2017-05-22 10:47:24.679</td>\n",
       "      <td>0</td>\n",
       "      <td>False</td>\n",
       "      <td>Kenya</td>\n",
       "      <td>False</td>\n",
       "      <td>6781</td>\n",
       "      <td>+254458302406</td>\n",
       "    </tr>\n",
       "    <tr>\n",
       "      <th>1</th>\n",
       "      <td>Honey!</td>\n",
       "      <td>2</td>\n",
       "      <td>KE</td>\n",
       "      <td>0</td>\n",
       "      <td>2017-05-22 10:47:16.054</td>\n",
       "      <td>0</td>\n",
       "      <td>False</td>\n",
       "      <td>Kenya</td>\n",
       "      <td>False</td>\n",
       "      <td>6780</td>\n",
       "      <td>+254458302406</td>\n",
       "    </tr>\n",
       "    <tr>\n",
       "      <th>2</th>\n",
       "      <td>Robat-platnum</td>\n",
       "      <td>3</td>\n",
       "      <td>KE</td>\n",
       "      <td>0</td>\n",
       "      <td>2017-05-22 06:55:05.352</td>\n",
       "      <td>0</td>\n",
       "      <td>False</td>\n",
       "      <td>Kenya</td>\n",
       "      <td>True</td>\n",
       "      <td>6779</td>\n",
       "      <td>0718902128</td>\n",
       "    </tr>\n",
       "  </tbody>\n",
       "</table>\n",
       "</div>"
      ],
      "text/plain": [
       "     cached_name  call_type country_iso  data_usage                datetime  \\\n",
       "0         Honey!          2          KE           0 2017-05-22 10:47:24.679   \n",
       "1         Honey!          2          KE           0 2017-05-22 10:47:16.054   \n",
       "2  Robat-platnum          3          KE           0 2017-05-22 06:55:05.352   \n",
       "\n",
       "   duration features_video geocoded_location is_read  item_id   phone_number  \n",
       "0         0          False             Kenya   False     6781  +254458302406  \n",
       "1         0          False             Kenya   False     6780  +254458302406  \n",
       "2         0          False             Kenya    True     6779     0718902128  "
      ]
     },
     "execution_count": 116,
     "metadata": {},
     "output_type": "execute_result"
    }
   ],
   "source": [
    "dv2_call = pd.read_json(devices_data[1][0])\n",
    "dv2_call.head(3)"
   ]
  },
  {
   "cell_type": "code",
   "execution_count": 149,
   "metadata": {
    "collapsed": false
   },
   "outputs": [
    {
     "data": {
      "text/plain": [
       "(Timestamp('2017-03-12 15:47:14.905000'),\n",
       " Timestamp('2017-05-22 10:47:24.679000'))"
      ]
     },
     "execution_count": 149,
     "metadata": {},
     "output_type": "execute_result"
    }
   ],
   "source": [
    "dv2_call['datetime'] = pd.to_datetime(dv2_call['datetime'])\n",
    "min(dv2_call['datetime']), max(dv2_call['datetime'])"
   ]
  },
  {
   "cell_type": "code",
   "execution_count": 117,
   "metadata": {
    "collapsed": false
   },
   "outputs": [
    {
     "data": {
      "text/html": [
       "<div>\n",
       "<table border=\"1\" class=\"dataframe\">\n",
       "  <thead>\n",
       "    <tr style=\"text-align: right;\">\n",
       "      <th></th>\n",
       "      <th>display_name</th>\n",
       "      <th>item_id</th>\n",
       "      <th>last_time_contacted</th>\n",
       "      <th>phone_numbers</th>\n",
       "      <th>photo_id</th>\n",
       "      <th>times_contacted</th>\n",
       "    </tr>\n",
       "  </thead>\n",
       "  <tbody>\n",
       "    <tr>\n",
       "      <th>0</th>\n",
       "      <td>Stevo</td>\n",
       "      <td>423</td>\n",
       "      <td>1470677235362</td>\n",
       "      <td>[{u'item_id': 495222, u'normalized_phone_numbe...</td>\n",
       "      <td>NaN</td>\n",
       "      <td>5</td>\n",
       "    </tr>\n",
       "    <tr>\n",
       "      <th>1</th>\n",
       "      <td>Petzz</td>\n",
       "      <td>1188</td>\n",
       "      <td>1486666837411</td>\n",
       "      <td>[{u'item_id': 495937, u'normalized_phone_numbe...</td>\n",
       "      <td>NaN</td>\n",
       "      <td>28</td>\n",
       "    </tr>\n",
       "    <tr>\n",
       "      <th>2</th>\n",
       "      <td>Adhiambo</td>\n",
       "      <td>1514</td>\n",
       "      <td>0</td>\n",
       "      <td>[{u'item_id': 10620, u'phone_number': u'441'}]</td>\n",
       "      <td>NaN</td>\n",
       "      <td>0</td>\n",
       "    </tr>\n",
       "  </tbody>\n",
       "</table>\n",
       "</div>"
      ],
      "text/plain": [
       "  display_name  item_id  last_time_contacted  \\\n",
       "0        Stevo      423        1470677235362   \n",
       "1        Petzz     1188        1486666837411   \n",
       "2     Adhiambo     1514                    0   \n",
       "\n",
       "                                       phone_numbers  photo_id  \\\n",
       "0  [{u'item_id': 495222, u'normalized_phone_numbe...       NaN   \n",
       "1  [{u'item_id': 495937, u'normalized_phone_numbe...       NaN   \n",
       "2     [{u'item_id': 10620, u'phone_number': u'441'}]       NaN   \n",
       "\n",
       "   times_contacted  \n",
       "0                5  \n",
       "1               28  \n",
       "2                0  "
      ]
     },
     "execution_count": 117,
     "metadata": {},
     "output_type": "execute_result"
    }
   ],
   "source": [
    "dv2_contact = pd.read_json(devices_data[1][1])\n",
    "dv2_contact.head(3)"
   ]
  },
  {
   "cell_type": "code",
   "execution_count": 121,
   "metadata": {
    "collapsed": false
   },
   "outputs": [
    {
     "data": {
      "text/html": [
       "<div>\n",
       "<table border=\"1\" class=\"dataframe\">\n",
       "  <thead>\n",
       "    <tr style=\"text-align: right;\">\n",
       "      <th></th>\n",
       "      <th>contact_id</th>\n",
       "      <th>datetime</th>\n",
       "      <th>item_id</th>\n",
       "      <th>message_body</th>\n",
       "      <th>sms_address</th>\n",
       "      <th>sms_type</th>\n",
       "      <th>thread_id</th>\n",
       "    </tr>\n",
       "  </thead>\n",
       "  <tbody>\n",
       "    <tr>\n",
       "      <th>0</th>\n",
       "      <td>0</td>\n",
       "      <td>2017-05-22 10:50:59.602</td>\n",
       "      <td>21381</td>\n",
       "      <td>Hi Ekuwom, your next Branch repayment of Ksh35...</td>\n",
       "      <td>Branch-Co</td>\n",
       "      <td>1</td>\n",
       "      <td>524</td>\n",
       "    </tr>\n",
       "    <tr>\n",
       "      <th>1</th>\n",
       "      <td>0</td>\n",
       "      <td>2017-05-22 10:45:48.087</td>\n",
       "      <td>21380</td>\n",
       "      <td>You have successfully received Ksh 45.00  on P...</td>\n",
       "      <td>Orange</td>\n",
       "      <td>1</td>\n",
       "      <td>561</td>\n",
       "    </tr>\n",
       "    <tr>\n",
       "      <th>2</th>\n",
       "      <td>0</td>\n",
       "      <td>2017-05-22 10:45:43.436</td>\n",
       "      <td>21379</td>\n",
       "      <td>Congratulations you have received FREE Holla P...</td>\n",
       "      <td>Orange</td>\n",
       "      <td>1</td>\n",
       "      <td>561</td>\n",
       "    </tr>\n",
       "    <tr>\n",
       "      <th>3</th>\n",
       "      <td>0</td>\n",
       "      <td>2017-05-22 10:18:57.252</td>\n",
       "      <td>21378</td>\n",
       "      <td>Hello!</td>\n",
       "      <td>+254458302406</td>\n",
       "      <td>2</td>\n",
       "      <td>225</td>\n",
       "    </tr>\n",
       "    <tr>\n",
       "      <th>4</th>\n",
       "      <td>0</td>\n",
       "      <td>2017-05-22 08:20:30.234</td>\n",
       "      <td>21376</td>\n",
       "      <td>You are invited to the Safaricom Deaf Athletic...</td>\n",
       "      <td>SAFARICOM</td>\n",
       "      <td>1</td>\n",
       "      <td>564</td>\n",
       "    </tr>\n",
       "  </tbody>\n",
       "</table>\n",
       "</div>"
      ],
      "text/plain": [
       "   contact_id                datetime  item_id  \\\n",
       "0           0 2017-05-22 10:50:59.602    21381   \n",
       "1           0 2017-05-22 10:45:48.087    21380   \n",
       "2           0 2017-05-22 10:45:43.436    21379   \n",
       "3           0 2017-05-22 10:18:57.252    21378   \n",
       "4           0 2017-05-22 08:20:30.234    21376   \n",
       "\n",
       "                                        message_body    sms_address  sms_type  \\\n",
       "0  Hi Ekuwom, your next Branch repayment of Ksh35...      Branch-Co         1   \n",
       "1  You have successfully received Ksh 45.00  on P...         Orange         1   \n",
       "2  Congratulations you have received FREE Holla P...         Orange         1   \n",
       "3                                             Hello!  +254458302406         2   \n",
       "4  You are invited to the Safaricom Deaf Athletic...      SAFARICOM         1   \n",
       "\n",
       "   thread_id  \n",
       "0        524  \n",
       "1        561  \n",
       "2        561  \n",
       "3        225  \n",
       "4        564  "
      ]
     },
     "execution_count": 121,
     "metadata": {},
     "output_type": "execute_result"
    }
   ],
   "source": [
    "dv2_sms = pd.read_json(devices_data[1][2])\n",
    "dv2_sms.head(5)"
   ]
  },
  {
   "cell_type": "code",
   "execution_count": 181,
   "metadata": {
    "collapsed": false
   },
   "outputs": [
    {
     "data": {
      "text/html": [
       "<div>\n",
       "<table border=\"1\" class=\"dataframe\">\n",
       "  <thead>\n",
       "    <tr style=\"text-align: right;\">\n",
       "      <th></th>\n",
       "      <th>contact_id</th>\n",
       "      <th>datetime</th>\n",
       "      <th>item_id</th>\n",
       "      <th>message_body</th>\n",
       "      <th>sms_address</th>\n",
       "      <th>sms_type</th>\n",
       "      <th>thread_id</th>\n",
       "    </tr>\n",
       "  </thead>\n",
       "  <tbody>\n",
       "    <tr>\n",
       "      <th>0</th>\n",
       "      <td>0</td>\n",
       "      <td>2017-05-22 10:50:59.602</td>\n",
       "      <td>21381</td>\n",
       "      <td>Hi Ekuwom, your next Branch repayment of Ksh35...</td>\n",
       "      <td>Branch-Co</td>\n",
       "      <td>1</td>\n",
       "      <td>524</td>\n",
       "    </tr>\n",
       "    <tr>\n",
       "      <th>50</th>\n",
       "      <td>0</td>\n",
       "      <td>2017-05-20 10:36:33.079</td>\n",
       "      <td>21330</td>\n",
       "      <td>Hi Ekuwom, your next Branch repayment of Ksh35...</td>\n",
       "      <td>Branch-Co</td>\n",
       "      <td>1</td>\n",
       "      <td>524</td>\n",
       "    </tr>\n",
       "    <tr>\n",
       "      <th>524</th>\n",
       "      <td>0</td>\n",
       "      <td>2017-04-26 19:24:41.516</td>\n",
       "      <td>20027</td>\n",
       "      <td>Your Branch loan of Ksh 3100.0 has been sent! ...</td>\n",
       "      <td>Branch-Co</td>\n",
       "      <td>1</td>\n",
       "      <td>524</td>\n",
       "    </tr>\n",
       "    <tr>\n",
       "      <th>800</th>\n",
       "      <td>0</td>\n",
       "      <td>2017-04-03 11:11:28.619</td>\n",
       "      <td>18757</td>\n",
       "      <td>Hi Ekuwom, your next Branch repayment of Ksh56...</td>\n",
       "      <td>Branch-Co</td>\n",
       "      <td>1</td>\n",
       "      <td>524</td>\n",
       "    </tr>\n",
       "    <tr>\n",
       "      <th>1107</th>\n",
       "      <td>0</td>\n",
       "      <td>2017-03-31 11:39:26.447</td>\n",
       "      <td>18427</td>\n",
       "      <td>Your Branch loan of Ksh 2000.0 has been sent! ...</td>\n",
       "      <td>Branch-Co</td>\n",
       "      <td>1</td>\n",
       "      <td>524</td>\n",
       "    </tr>\n",
       "  </tbody>\n",
       "</table>\n",
       "</div>"
      ],
      "text/plain": [
       "      contact_id                datetime  item_id  \\\n",
       "0              0 2017-05-22 10:50:59.602    21381   \n",
       "50             0 2017-05-20 10:36:33.079    21330   \n",
       "524            0 2017-04-26 19:24:41.516    20027   \n",
       "800            0 2017-04-03 11:11:28.619    18757   \n",
       "1107           0 2017-03-31 11:39:26.447    18427   \n",
       "\n",
       "                                           message_body sms_address  sms_type  \\\n",
       "0     Hi Ekuwom, your next Branch repayment of Ksh35...   Branch-Co         1   \n",
       "50    Hi Ekuwom, your next Branch repayment of Ksh35...   Branch-Co         1   \n",
       "524   Your Branch loan of Ksh 3100.0 has been sent! ...   Branch-Co         1   \n",
       "800   Hi Ekuwom, your next Branch repayment of Ksh56...   Branch-Co         1   \n",
       "1107  Your Branch loan of Ksh 2000.0 has been sent! ...   Branch-Co         1   \n",
       "\n",
       "      thread_id  \n",
       "0           524  \n",
       "50          524  \n",
       "524         524  \n",
       "800         524  \n",
       "1107        524  "
      ]
     },
     "execution_count": 181,
     "metadata": {},
     "output_type": "execute_result"
    }
   ],
   "source": [
    "dv2_sms[dv2_sms.sms_address == 'Branch-Co'].head(5)"
   ]
  },
  {
   "cell_type": "code",
   "execution_count": 160,
   "metadata": {
    "collapsed": false
   },
   "outputs": [
    {
     "data": {
      "text/plain": [
       "Counter({1: 5027, 2: 3724, 5: 63})"
      ]
     },
     "execution_count": 160,
     "metadata": {},
     "output_type": "execute_result"
    }
   ],
   "source": [
    "Counter(dv2_sms.sms_type)"
   ]
  },
  {
   "cell_type": "code",
   "execution_count": 180,
   "metadata": {
    "collapsed": false,
    "scrolled": true
   },
   "outputs": [
    {
     "data": {
      "text/plain": [
       "Counter({u'+211863012343': 1,\n",
       "         u'+254005735214': 2,\n",
       "         u'+254007510931': 13,\n",
       "         u'+254008393217': 1,\n",
       "         u'+254020740405': 6,\n",
       "         u'+254024948558': 52,\n",
       "         u'+254025669654': 2,\n",
       "         u'+254027054132': 2,\n",
       "         u'+254028991682': 1,\n",
       "         u'+254032194814': 14,\n",
       "         u'+254040669378': 51,\n",
       "         u'+254042255566': 27,\n",
       "         u'+254047392031': 1,\n",
       "         u'+254047820042': 25,\n",
       "         u'+254049403345': 1,\n",
       "         u'+254049888677': 33,\n",
       "         u'+254054247283': 8,\n",
       "         u'+254057552783': 1,\n",
       "         u'+254060432444': 3,\n",
       "         u'+254071349735': 32,\n",
       "         u'+254072684297': 23,\n",
       "         u'+254078310919': 7,\n",
       "         u'+254083973428': 1,\n",
       "         u'+254087134351': 3,\n",
       "         u'+254092593154': 15,\n",
       "         u'+254093546874': 18,\n",
       "         u'+254100705546': 1,\n",
       "         u'+254106294864': 15,\n",
       "         u'+254111548588': 1,\n",
       "         u'+254112189269': 2,\n",
       "         u'+254117514912': 28,\n",
       "         u'+254119024677': 27,\n",
       "         u'+254121570830': 6,\n",
       "         u'+254128670414': 24,\n",
       "         u'+254133806173': 1,\n",
       "         u'+254136446311': 1,\n",
       "         u'+254139505796': 44,\n",
       "         u'+254146434569': 2,\n",
       "         u'+254146828631': 49,\n",
       "         u'+254157628397': 19,\n",
       "         u'+254158474585': 20,\n",
       "         u'+254163919137': 1,\n",
       "         u'+254173217252': 6,\n",
       "         u'+254179549429': 8,\n",
       "         u'+254182507550': 4,\n",
       "         u'+254186429093': 1,\n",
       "         u'+254188019802': 14,\n",
       "         u'+254190876159': 1,\n",
       "         u'+254199363076': 10,\n",
       "         u'+254202483128': 8,\n",
       "         u'+254205415604': 7,\n",
       "         u'+254220156807': 10,\n",
       "         u'+254227388913': 6,\n",
       "         u'+254228526612': 2,\n",
       "         u'+254232529587': 6,\n",
       "         u'+254243713872': 126,\n",
       "         u'+254243932652': 2,\n",
       "         u'+254246134559': 1,\n",
       "         u'+254246148537': 14,\n",
       "         u'+254247843802': 1,\n",
       "         u'+254250414747': 19,\n",
       "         u'+254251478168': 2,\n",
       "         u'+254251592871': 22,\n",
       "         u'+254252285624': 16,\n",
       "         u'+254256139302': 6,\n",
       "         u'+254260376585': 2,\n",
       "         u'+254261766508': 1,\n",
       "         u'+254266720164': 6,\n",
       "         u'+254271095657': 114,\n",
       "         u'+254276172145': 11,\n",
       "         u'+254279130323': 2,\n",
       "         u'+254280126446': 8,\n",
       "         u'+254280188827': 3,\n",
       "         u'+254280547003': 5,\n",
       "         u'+254281586716': 210,\n",
       "         u'+254284988491': 3,\n",
       "         u'+254286862636': 11,\n",
       "         u'+254290980998': 1,\n",
       "         u'+254294092145': 34,\n",
       "         u'+254312412621': 10,\n",
       "         u'+254320769390': 32,\n",
       "         u'+254322246883': 8,\n",
       "         u'+254323976446': 30,\n",
       "         u'+254332539968': 1,\n",
       "         u'+254345779130': 1,\n",
       "         u'+254346729267': 2,\n",
       "         u'+254353120853': 4,\n",
       "         u'+254356514005': 13,\n",
       "         u'+254357241577': 15,\n",
       "         u'+254361280241': 2,\n",
       "         u'+254368056257': 3,\n",
       "         u'+254373045659': 2,\n",
       "         u'+254388496868': 10,\n",
       "         u'+254389613027': 21,\n",
       "         u'+254393119725': 4,\n",
       "         u'+254394647578': 1,\n",
       "         u'+254397477831': 5,\n",
       "         u'+254409677338': 38,\n",
       "         u'+254423395097': 4,\n",
       "         u'+254436372352': 8,\n",
       "         u'+254450546476': 16,\n",
       "         u'+254455709756': 37,\n",
       "         u'+254458302406': 944,\n",
       "         u'+254463873922': 1,\n",
       "         u'+254470498215': 19,\n",
       "         u'+254473158039': 7,\n",
       "         u'+254473299017': 8,\n",
       "         u'+254478423492': 60,\n",
       "         u'+254484321561': 12,\n",
       "         u'+254487690346': 176,\n",
       "         u'+254495579229': 13,\n",
       "         u'+254497359109': 1,\n",
       "         u'+254500848325': 3,\n",
       "         u'+254503996349': 7,\n",
       "         u'+254504872922': 2,\n",
       "         u'+254507867698': 2,\n",
       "         u'+254510052552': 1,\n",
       "         u'+254513215039': 3,\n",
       "         u'+254519419811': 4,\n",
       "         u'+254522461457': 1,\n",
       "         u'+254523015670': 2,\n",
       "         u'+254528484304': 10,\n",
       "         u'+254530245159': 2,\n",
       "         u'+254546319258': 49,\n",
       "         u'+254550116945': 31,\n",
       "         u'+254553163536': 3,\n",
       "         u'+254585928062': 7,\n",
       "         u'+254590571096': 1,\n",
       "         u'+254591467835': 33,\n",
       "         u'+254600027508': 1,\n",
       "         u'+254604820381': 95,\n",
       "         u'+254610669641': 6,\n",
       "         u'+254613001795': 1,\n",
       "         u'+254613452099': 17,\n",
       "         u'+254614909865': 1,\n",
       "         u'+254621260744': 6,\n",
       "         u'+254622757854': 6,\n",
       "         u'+254623991880': 10,\n",
       "         u'+254631665183': 1,\n",
       "         u'+254633944274': 6,\n",
       "         u'+254641893702': 6,\n",
       "         u'+254650162978': 6,\n",
       "         u'+254650164338': 1,\n",
       "         u'+254656695601': 2,\n",
       "         u'+254656900518': 43,\n",
       "         u'+254668113547': 2,\n",
       "         u'+254668489927': 18,\n",
       "         u'+254676157465': 2,\n",
       "         u'+254677190622': 1,\n",
       "         u'+254681180145': 18,\n",
       "         u'+254683669739': 37,\n",
       "         u'+254693089000': 16,\n",
       "         u'+254694950480': 2,\n",
       "         u'+254701505015': 1,\n",
       "         u'+254703468351': 1,\n",
       "         u'+254705585815': 36,\n",
       "         u'+254706291014': 26,\n",
       "         u'+254708770024': 2,\n",
       "         u'+254715024461': 5,\n",
       "         u'+254723183783': 1,\n",
       "         u'+254724452599': 2,\n",
       "         u'+254734994938': 16,\n",
       "         u'+254746201297': 12,\n",
       "         u'+254753182609': 1,\n",
       "         u'+254753944063': 2,\n",
       "         u'+254762583630': 25,\n",
       "         u'+254763142422': 1,\n",
       "         u'+254766346917': 234,\n",
       "         u'+254767967745': 13,\n",
       "         u'+254769599127': 217,\n",
       "         u'+254769794797': 6,\n",
       "         u'+254770159833': 3,\n",
       "         u'+254772731502': 3,\n",
       "         u'+254776837189': 3,\n",
       "         u'+254778432406': 1,\n",
       "         u'+254810893731': 29,\n",
       "         u'+254832568305': 10,\n",
       "         u'+254835860952': 1,\n",
       "         u'+254842664554': 10,\n",
       "         u'+254846690145': 4,\n",
       "         u'+254846907588': 8,\n",
       "         u'+254847074068': 4,\n",
       "         u'+254855761961': 2,\n",
       "         u'+254867695170': 4,\n",
       "         u'+254871199083': 1,\n",
       "         u'+254873484542': 46,\n",
       "         u'+254874056197': 15,\n",
       "         u'+254880492078': 1,\n",
       "         u'+254888537274': 16,\n",
       "         u'+254890195600': 1,\n",
       "         u'+254894506779': 8,\n",
       "         u'+254907232636': 37,\n",
       "         u'+254908011087': 71,\n",
       "         u'+254916157909': 1861,\n",
       "         u'+254917675980': 1,\n",
       "         u'+254922562571': 24,\n",
       "         u'+254925914471': 3,\n",
       "         u'+254932358592': 2,\n",
       "         u'+254933575166': 11,\n",
       "         u'+254936224677': 5,\n",
       "         u'+254945646290': 14,\n",
       "         u'+254951192277': 8,\n",
       "         u'+254962707071': 7,\n",
       "         u'+254968737007': 11,\n",
       "         u'+254974022883': 24,\n",
       "         u'+254979368757': 2,\n",
       "         u'+254983159160': 7,\n",
       "         u'+254984120169': 3,\n",
       "         u'0700043372': 3,\n",
       "         u'0700741928': 16,\n",
       "         u'0701093935': 2,\n",
       "         u'0701382398': 2,\n",
       "         u'0701638779': 3,\n",
       "         u'0701739337': 2,\n",
       "         u'0701958907': 1,\n",
       "         u'0701986367': 11,\n",
       "         u'0702082008': 10,\n",
       "         u'0702267445': 1,\n",
       "         u'0702315547': 24,\n",
       "         u'0702423526': 1,\n",
       "         u'0702599238': 1,\n",
       "         u'0702874333': 3,\n",
       "         u'0702913654': 3,\n",
       "         u'0703345160': 14,\n",
       "         u'0703391766': 1,\n",
       "         u'0703565127': 5,\n",
       "         u'0703681164': 12,\n",
       "         u'0703953588': 12,\n",
       "         u'0704178060': 6,\n",
       "         u'0704488296': 4,\n",
       "         u'0704489899': 1,\n",
       "         u'0704684480': 1,\n",
       "         u'0705021185': 21,\n",
       "         u'0705049728': 13,\n",
       "         u'0705079405': 3,\n",
       "         u'0705081209': 16,\n",
       "         u'0705388008': 8,\n",
       "         u'0705461836': 1,\n",
       "         u'0705574843': 4,\n",
       "         u'0705775568': 6,\n",
       "         u'0705818712': 1,\n",
       "         u'0705936125': 13,\n",
       "         u'0706045833': 1,\n",
       "         u'0706214287': 9,\n",
       "         u'0706224377': 3,\n",
       "         u'0706454201': 1,\n",
       "         u'0706690278': 77,\n",
       "         u'0707089524': 1,\n",
       "         u'0707112418': 73,\n",
       "         u'0707379138': 3,\n",
       "         u'0707772497': 20,\n",
       "         u'0707888928': 1,\n",
       "         u'0708071060': 1,\n",
       "         u'0708679634': 2,\n",
       "         u'0708813331': 5,\n",
       "         u'0710099076': 1,\n",
       "         u'0710212475': 2,\n",
       "         u'0710461743': 14,\n",
       "         u'0710774952': 15,\n",
       "         u'0711290043': 1,\n",
       "         u'0711467969': 3,\n",
       "         u'0711725378': 3,\n",
       "         u'0712196668': 3,\n",
       "         u'0712439957': 5,\n",
       "         u'0712840342': 2,\n",
       "         u'0713137793': 1,\n",
       "         u'0713494121': 35,\n",
       "         u'0713540937': 3,\n",
       "         u'0713684591': 64,\n",
       "         u'0713751003': 6,\n",
       "         u'0714151720': 4,\n",
       "         u'0714349383': 29,\n",
       "         u'0714890455': 1,\n",
       "         u'0715020509': 653,\n",
       "         u'0715261795': 6,\n",
       "         u'0715330698': 1,\n",
       "         u'0715398784': 1,\n",
       "         u'0715461617': 30,\n",
       "         u'0715511115': 1,\n",
       "         u'0715684305': 44,\n",
       "         u'0715888013': 32,\n",
       "         u'0715903408': 1,\n",
       "         u'0716140411': 1,\n",
       "         u'0716144885': 5,\n",
       "         u'0716168572': 3,\n",
       "         u'0716571215': 6,\n",
       "         u'0716623403': 8,\n",
       "         u'0716839473': 5,\n",
       "         u'0716854807': 1,\n",
       "         u'0717213808': 5,\n",
       "         u'0717706815': 2,\n",
       "         u'0717845141': 3,\n",
       "         u'0717886152': 19,\n",
       "         u'0718114690': 1,\n",
       "         u'0718169097': 1,\n",
       "         u'0718478137': 2,\n",
       "         u'0718537092': 1,\n",
       "         u'0718627859': 7,\n",
       "         u'0718716805': 32,\n",
       "         u'0718742916': 9,\n",
       "         u'0718766411': 4,\n",
       "         u'0719090289': 8,\n",
       "         u'0719093357': 1,\n",
       "         u'0719443649': 3,\n",
       "         u'0719973213': 1,\n",
       "         u'0720278214': 192,\n",
       "         u'0721824206': 15,\n",
       "         u'0721911342': 28,\n",
       "         u'0722108119': 2,\n",
       "         u'0722263857': 10,\n",
       "         u'0722658632': 1,\n",
       "         u'0723315562': 1,\n",
       "         u'0723341923': 2,\n",
       "         u'0723650741': 1,\n",
       "         u'0724247369': 3,\n",
       "         u'0724307998': 15,\n",
       "         u'0724527147': 1,\n",
       "         u'0724649784': 9,\n",
       "         u'0724745287': 28,\n",
       "         u'0725721210': 4,\n",
       "         u'0725811135': 1,\n",
       "         u'0726015205': 24,\n",
       "         u'0726017984': 4,\n",
       "         u'0726232428': 8,\n",
       "         u'0726870242': 1,\n",
       "         u'0726997613': 14,\n",
       "         u'0727104415': 3,\n",
       "         u'0727280022': 2,\n",
       "         u'0727646048': 8,\n",
       "         u'0727771410': 16,\n",
       "         u'0727843135': 1,\n",
       "         u'0728179126': 3,\n",
       "         u'0728446074': 1,\n",
       "         u'0728785413': 1,\n",
       "         u'0728864521': 11,\n",
       "         u'0729383213': 1,\n",
       "         u'0732380401': 1,\n",
       "         u'0734405540': 5,\n",
       "         u'0739548273': 7,\n",
       "         u'0763638290': 1,\n",
       "         u'0790246827': 2,\n",
       "         u'0790310098': 1,\n",
       "         u'0790418117': 17,\n",
       "         u'0790547687': 1,\n",
       "         u'0790714501': 7,\n",
       "         u'0790883921': 100,\n",
       "         u'0790990773': 2,\n",
       "         u'0791366293': 1,\n",
       "         u'0791415876': 4,\n",
       "         u'0791746922': 1,\n",
       "         u'0792462163': 12,\n",
       "         u'0792568579': 1,\n",
       "         u'0792665055': 4,\n",
       "         u'0792685486': 2,\n",
       "         u'0792722501': 1,\n",
       "         u'0792844153': 33,\n",
       "         u'0792987473': 8,\n",
       "         u'0795420152': 3,\n",
       "         u'0795491468': 1,\n",
       "         u'0796136875': 1,\n",
       "         u'0796719369': 1,\n",
       "         u'0796859397': 1,\n",
       "         u'0796931444': 2,\n",
       "         u'0797803904': 15,\n",
       "         u'0798236141': 1,\n",
       "         u'0798543434': 1,\n",
       "         u'0799788407': 32,\n",
       "         u'132': 7,\n",
       "         u'20308': 1,\n",
       "         u'22141': 2,\n",
       "         u'254626101789': 1,\n",
       "         u'254651464771': 1,\n",
       "         u'254745133625': 3,\n",
       "         u'254818356501': 1,\n",
       "         u'254898853320': 1,\n",
       "         u'29020': 3,\n",
       "         u'29090': 36,\n",
       "         u'72000': 6,\n",
       "         u'79079': 9,\n",
       "         u'AIRTEL': 23,\n",
       "         u'Airtel': 10,\n",
       "         u'BLAZE': 5,\n",
       "         u'BetPawa': 1,\n",
       "         u'Betika': 15,\n",
       "         u'Branch-Co': 7,\n",
       "         u'CO-OP_BANK': 1,\n",
       "         u'COOPBANK': 2,\n",
       "         u'ECITIZEN': 1,\n",
       "         u'ETOPUP': 4,\n",
       "         u'Ess-Pesa': 13,\n",
       "         u'KCB': 1,\n",
       "         u'KPLC': 5,\n",
       "         u'KWIKBET': 32,\n",
       "         u'MPESA': 57,\n",
       "         u'Orange': 139,\n",
       "         u'Pepea': 1,\n",
       "         u'SAFARICOM': 25,\n",
       "         u'Safaricom': 69,\n",
       "         u'Skiza': 1,\n",
       "         u'Smartika': 4,\n",
       "         u'Telkom': 2,\n",
       "         u'VERIFY': 1,\n",
       "         u'Verify': 1,\n",
       "         u'VoiceMail': 2,\n",
       "         u'Vuma': 2,\n",
       "         u'WhatsApp': 1,\n",
       "         u'e-jaze': 4,\n",
       "         u'mCHEZA': 1})"
      ]
     },
     "execution_count": 180,
     "metadata": {},
     "output_type": "execute_result"
    }
   ],
   "source": [
    "Counter(dv2_sms.sms_address)"
   ]
  },
  {
   "cell_type": "code",
   "execution_count": null,
   "metadata": {
    "collapsed": true
   },
   "outputs": [],
   "source": []
  },
  {
   "cell_type": "code",
   "execution_count": null,
   "metadata": {
    "collapsed": true
   },
   "outputs": [],
   "source": []
  },
  {
   "cell_type": "markdown",
   "metadata": {},
   "source": [
    "# let's look at data from another user (uid 232)"
   ]
  },
  {
   "cell_type": "code",
   "execution_count": 199,
   "metadata": {
    "collapsed": false
   },
   "outputs": [
    {
     "data": {
      "text/plain": [
       "[['../logs/user-232/device-1/collated_call_log.txt',\n",
       "  '../logs/user-232/device-1/collated_contact_list.txt',\n",
       "  '../logs/user-232/device-1/collated_sms_log.txt']]"
      ]
     },
     "execution_count": 199,
     "metadata": {},
     "output_type": "execute_result"
    }
   ],
   "source": [
    "uid = 232 # default  \n",
    "devices = glob.glob('../logs/user-%d/*' %uid)\n",
    "devices_data = [glob.glob(i+'/*.txt') for i in devices]\n",
    "devices_data"
   ]
  },
  {
   "cell_type": "code",
   "execution_count": 165,
   "metadata": {
    "collapsed": false
   },
   "outputs": [
    {
     "data": {
      "text/html": [
       "<div>\n",
       "<table border=\"1\" class=\"dataframe\">\n",
       "  <thead>\n",
       "    <tr style=\"text-align: right;\">\n",
       "      <th></th>\n",
       "      <th>user_id</th>\n",
       "      <th>disbursed_at</th>\n",
       "      <th>loan_status</th>\n",
       "      <th>number_of_devices</th>\n",
       "      <th>repaid</th>\n",
       "    </tr>\n",
       "  </thead>\n",
       "  <tbody>\n",
       "    <tr>\n",
       "      <th>231</th>\n",
       "      <td>232</td>\n",
       "      <td>2017-03-01T00:00:00.000Z</td>\n",
       "      <td>defaulted</td>\n",
       "      <td>1</td>\n",
       "      <td>False</td>\n",
       "    </tr>\n",
       "  </tbody>\n",
       "</table>\n",
       "</div>"
      ],
      "text/plain": [
       "     user_id              disbursed_at loan_status  number_of_devices repaid\n",
       "231      232  2017-03-01T00:00:00.000Z   defaulted                  1  False"
      ]
     },
     "execution_count": 165,
     "metadata": {},
     "output_type": "execute_result"
    }
   ],
   "source": [
    "df_from_csv[df_from_csv['user_id'] == 232]"
   ]
  },
  {
   "cell_type": "markdown",
   "metadata": {},
   "source": [
    "# Device 1 of uid 220"
   ]
  },
  {
   "cell_type": "code",
   "execution_count": 200,
   "metadata": {
    "collapsed": false
   },
   "outputs": [
    {
     "data": {
      "text/html": [
       "<div>\n",
       "<table border=\"1\" class=\"dataframe\">\n",
       "  <thead>\n",
       "    <tr style=\"text-align: right;\">\n",
       "      <th></th>\n",
       "      <th>cached_name</th>\n",
       "      <th>call_type</th>\n",
       "      <th>datetime</th>\n",
       "      <th>duration</th>\n",
       "      <th>is_read</th>\n",
       "      <th>item_id</th>\n",
       "      <th>phone_number</th>\n",
       "    </tr>\n",
       "  </thead>\n",
       "  <tbody>\n",
       "    <tr>\n",
       "      <th>0</th>\n",
       "      <td>NaN</td>\n",
       "      <td>1</td>\n",
       "      <td>2017-04-10 19:23:38.183</td>\n",
       "      <td>0</td>\n",
       "      <td>False</td>\n",
       "      <td>51734</td>\n",
       "      <td>Safaricom</td>\n",
       "    </tr>\n",
       "    <tr>\n",
       "      <th>1</th>\n",
       "      <td>Ngomongo Machakachue</td>\n",
       "      <td>1</td>\n",
       "      <td>2017-04-10 19:12:06.127</td>\n",
       "      <td>0</td>\n",
       "      <td>False</td>\n",
       "      <td>51733</td>\n",
       "      <td>0722252112</td>\n",
       "    </tr>\n",
       "    <tr>\n",
       "      <th>2</th>\n",
       "      <td>Mzee Sagini Majimoto</td>\n",
       "      <td>1</td>\n",
       "      <td>2017-04-10 18:55:14.980</td>\n",
       "      <td>0</td>\n",
       "      <td>False</td>\n",
       "      <td>51732</td>\n",
       "      <td>+254068542642</td>\n",
       "    </tr>\n",
       "  </tbody>\n",
       "</table>\n",
       "</div>"
      ],
      "text/plain": [
       "            cached_name  call_type                datetime  duration is_read  \\\n",
       "0                   NaN          1 2017-04-10 19:23:38.183         0   False   \n",
       "1  Ngomongo Machakachue          1 2017-04-10 19:12:06.127         0   False   \n",
       "2  Mzee Sagini Majimoto          1 2017-04-10 18:55:14.980         0   False   \n",
       "\n",
       "   item_id   phone_number  \n",
       "0    51734      Safaricom  \n",
       "1    51733     0722252112  \n",
       "2    51732  +254068542642  "
      ]
     },
     "execution_count": 200,
     "metadata": {},
     "output_type": "execute_result"
    }
   ],
   "source": [
    "dv1_call = pd.read_json(devices_data[0][0])\n",
    "dv1_call.head(3)"
   ]
  },
  {
   "cell_type": "code",
   "execution_count": 201,
   "metadata": {
    "collapsed": false
   },
   "outputs": [
    {
     "data": {
      "text/plain": [
       "(Timestamp('2017-01-21 16:40:17.285000'),\n",
       " Timestamp('2017-04-10 19:23:38.183000'))"
      ]
     },
     "execution_count": 201,
     "metadata": {},
     "output_type": "execute_result"
    }
   ],
   "source": [
    "dv1_call['datetime'] = pd.to_datetime(dv1_call['datetime'])\n",
    "min(dv1_call['datetime']), max(dv1_call['datetime'])"
   ]
  },
  {
   "cell_type": "code",
   "execution_count": 202,
   "metadata": {
    "collapsed": false
   },
   "outputs": [
    {
     "data": {
      "text/plain": [
       "23.537665562913908"
      ]
     },
     "execution_count": 202,
     "metadata": {},
     "output_type": "execute_result"
    }
   ],
   "source": [
    "np.mean(dv1_call.duration)"
   ]
  },
  {
   "cell_type": "code",
   "execution_count": 170,
   "metadata": {
    "collapsed": false,
    "scrolled": true
   },
   "outputs": [
    {
     "data": {
      "text/plain": [
       "Counter({nan: 788,\n",
       "         u'+254719833858': 6,\n",
       "         u'0727777760': 17,\n",
       "         u'Abel': 111,\n",
       "         u'Abough': 1,\n",
       "         u'Aesha': 10,\n",
       "         u'Anta': 3,\n",
       "         u'Baba Sumaya': 36,\n",
       "         u'Babbu': 105,\n",
       "         u'Bnz.': 3,\n",
       "         u'Brooohhh': 7,\n",
       "         u'Clyde': 6,\n",
       "         u'Dada': 30,\n",
       "         u'Fadhili': 2,\n",
       "         u'Free Call': 13,\n",
       "         u'Halima': 5,\n",
       "         u'Hassan': 39,\n",
       "         u'Herb': 42,\n",
       "         u'JIMMY JAMAL': 12,\n",
       "         u'Joan': 1,\n",
       "         u'Jude': 2,\n",
       "         u'Jumbe': 1,\n",
       "         u'Kimani Bildad': 27,\n",
       "         u'Kirago': 39,\n",
       "         u'Ma Khadija': 369,\n",
       "         u'Maahad': 5,\n",
       "         u'Makhanu': 7,\n",
       "         u'Meddy': 2,\n",
       "         u'Mgustavo': 77,\n",
       "         u'Muha': 35,\n",
       "         u'Mzee Sagini Majimoto': 73,\n",
       "         u'Nancy Mafuta': 1,\n",
       "         u'Ngomongo Machakachue': 349,\n",
       "         u'Omar12': 15,\n",
       "         u'Panda': 2,\n",
       "         u'Peter': 136,\n",
       "         u'Peterr': 3,\n",
       "         u'Qassim2': 6,\n",
       "         u'Sportpesa': 9,\n",
       "         u'Tonny': 7,\n",
       "         u'Wex': 14})"
      ]
     },
     "execution_count": 170,
     "metadata": {},
     "output_type": "execute_result"
    }
   ],
   "source": [
    "Counter(dv1_call.cached_name)"
   ]
  },
  {
   "cell_type": "code",
   "execution_count": 172,
   "metadata": {
    "collapsed": false
   },
   "outputs": [
    {
     "data": {
      "text/html": [
       "<div>\n",
       "<table border=\"1\" class=\"dataframe\">\n",
       "  <thead>\n",
       "    <tr style=\"text-align: right;\">\n",
       "      <th></th>\n",
       "      <th>display_name</th>\n",
       "      <th>item_id</th>\n",
       "      <th>last_time_contacted</th>\n",
       "      <th>phone_numbers</th>\n",
       "      <th>photo_id</th>\n",
       "      <th>times_contacted</th>\n",
       "    </tr>\n",
       "  </thead>\n",
       "  <tbody>\n",
       "    <tr>\n",
       "      <th>0</th>\n",
       "      <td>Baba</td>\n",
       "      <td>2056</td>\n",
       "      <td>1461738812364</td>\n",
       "      <td>[{u'item_id': 2467, u'normalized_phone_number'...</td>\n",
       "      <td>NaN</td>\n",
       "      <td>16</td>\n",
       "    </tr>\n",
       "    <tr>\n",
       "      <th>1</th>\n",
       "      <td>Mama Suleiman</td>\n",
       "      <td>6372</td>\n",
       "      <td>0</td>\n",
       "      <td>NaN</td>\n",
       "      <td>NaN</td>\n",
       "      <td>0</td>\n",
       "    </tr>\n",
       "    <tr>\n",
       "      <th>2</th>\n",
       "      <td>Muha</td>\n",
       "      <td>6941</td>\n",
       "      <td>1489142087743</td>\n",
       "      <td>[{u'item_id': 12882, u'normalized_phone_number...</td>\n",
       "      <td>NaN</td>\n",
       "      <td>162</td>\n",
       "    </tr>\n",
       "  </tbody>\n",
       "</table>\n",
       "</div>"
      ],
      "text/plain": [
       "    display_name  item_id  last_time_contacted  \\\n",
       "0           Baba     2056        1461738812364   \n",
       "1  Mama Suleiman     6372                    0   \n",
       "2           Muha     6941        1489142087743   \n",
       "\n",
       "                                       phone_numbers  photo_id  \\\n",
       "0  [{u'item_id': 2467, u'normalized_phone_number'...       NaN   \n",
       "1                                                NaN       NaN   \n",
       "2  [{u'item_id': 12882, u'normalized_phone_number...       NaN   \n",
       "\n",
       "   times_contacted  \n",
       "0               16  \n",
       "1                0  \n",
       "2              162  "
      ]
     },
     "execution_count": 172,
     "metadata": {},
     "output_type": "execute_result"
    }
   ],
   "source": [
    "dv1_contact = pd.read_json(devices_data[0][1])\n",
    "dv1_contact.head(3)"
   ]
  },
  {
   "cell_type": "code",
   "execution_count": 182,
   "metadata": {
    "collapsed": false
   },
   "outputs": [
    {
     "data": {
      "text/html": [
       "<div>\n",
       "<table border=\"1\" class=\"dataframe\">\n",
       "  <thead>\n",
       "    <tr style=\"text-align: right;\">\n",
       "      <th></th>\n",
       "      <th>contact_id</th>\n",
       "      <th>datetime</th>\n",
       "      <th>item_id</th>\n",
       "      <th>message_body</th>\n",
       "      <th>sms_address</th>\n",
       "      <th>sms_type</th>\n",
       "      <th>thread_id</th>\n",
       "    </tr>\n",
       "  </thead>\n",
       "  <tbody>\n",
       "    <tr>\n",
       "      <th>0</th>\n",
       "      <td>0</td>\n",
       "      <td>2017-04-10 19:23:38.183</td>\n",
       "      <td>28841</td>\n",
       "      <td>Congratulations! You have received  60.00 KSH ...</td>\n",
       "      <td>Safaricom</td>\n",
       "      <td>1</td>\n",
       "      <td>4034</td>\n",
       "    </tr>\n",
       "    <tr>\n",
       "      <th>1</th>\n",
       "      <td>0</td>\n",
       "      <td>2017-04-10 19:12:06.127</td>\n",
       "      <td>28840</td>\n",
       "      <td>I tried calling you at 21:29 on 10Apr  Please ...</td>\n",
       "      <td>0722252112</td>\n",
       "      <td>1</td>\n",
       "      <td>3963</td>\n",
       "    </tr>\n",
       "    <tr>\n",
       "      <th>2</th>\n",
       "      <td>0</td>\n",
       "      <td>2017-04-10 18:55:14.980</td>\n",
       "      <td>28839</td>\n",
       "      <td>Huku njeve kaka</td>\n",
       "      <td>+254068542642</td>\n",
       "      <td>1</td>\n",
       "      <td>3993</td>\n",
       "    </tr>\n",
       "  </tbody>\n",
       "</table>\n",
       "</div>"
      ],
      "text/plain": [
       "   contact_id                datetime  item_id  \\\n",
       "0           0 2017-04-10 19:23:38.183    28841   \n",
       "1           0 2017-04-10 19:12:06.127    28840   \n",
       "2           0 2017-04-10 18:55:14.980    28839   \n",
       "\n",
       "                                        message_body    sms_address  sms_type  \\\n",
       "0  Congratulations! You have received  60.00 KSH ...      Safaricom         1   \n",
       "1  I tried calling you at 21:29 on 10Apr  Please ...     0722252112         1   \n",
       "2                                    Huku njeve kaka  +254068542642         1   \n",
       "\n",
       "   thread_id  \n",
       "0       4034  \n",
       "1       3963  \n",
       "2       3993  "
      ]
     },
     "execution_count": 182,
     "metadata": {},
     "output_type": "execute_result"
    }
   ],
   "source": [
    "dv1_sms = pd.read_json(devices_data[0][2])\n",
    "dv1_sms.head(3)"
   ]
  },
  {
   "cell_type": "code",
   "execution_count": 174,
   "metadata": {
    "collapsed": false
   },
   "outputs": [
    {
     "data": {
      "text/plain": [
       "Counter({1: 1133, 2: 725, 5: 9})"
      ]
     },
     "execution_count": 174,
     "metadata": {},
     "output_type": "execute_result"
    }
   ],
   "source": [
    "Counter(dv1_sms.sms_type)"
   ]
  },
  {
   "cell_type": "code",
   "execution_count": 175,
   "metadata": {
    "collapsed": false,
    "scrolled": true
   },
   "outputs": [
    {
     "data": {
      "text/plain": [
       "Counter({u'+254018678736': 8,\n",
       "         u'+254019610769': 2,\n",
       "         u'+254040858930': 2,\n",
       "         u'+254064603459': 130,\n",
       "         u'+254068542642': 60,\n",
       "         u'+254094120967': 3,\n",
       "         u'+254114737896': 90,\n",
       "         u'+254143913710': 4,\n",
       "         u'+254187686411': 12,\n",
       "         u'+254239703771': 3,\n",
       "         u'+254246932653': 3,\n",
       "         u'+254275145453': 2,\n",
       "         u'+254294618681': 2,\n",
       "         u'+254320142173': 20,\n",
       "         u'+254339916286': 1,\n",
       "         u'+254462379307': 8,\n",
       "         u'+254498363441': 2,\n",
       "         u'+254498932642': 230,\n",
       "         u'+254525302683': 3,\n",
       "         u'+254526557522': 4,\n",
       "         u'+254554142237': 3,\n",
       "         u'+254602353546': 2,\n",
       "         u'+254609264863': 20,\n",
       "         u'+254623639289': 1,\n",
       "         u'+254659306671': 2,\n",
       "         u'+254673666459': 6,\n",
       "         u'+254699736129': 3,\n",
       "         u'+254712306481': 12,\n",
       "         u'+254718270610': 2,\n",
       "         u'+254745852644': 64,\n",
       "         u'+254757189128': 140,\n",
       "         u'+254761014110': 8,\n",
       "         u'+254808049297': 2,\n",
       "         u'+254851818970': 26,\n",
       "         u'+254852244811': 5,\n",
       "         u'+254925322873': 13,\n",
       "         u'+254950606241': 48,\n",
       "         u'+254966248074': 1,\n",
       "         u'+256013492392': 1,\n",
       "         u'0700509460': 2,\n",
       "         u'0701752034': 1,\n",
       "         u'0705436467': 5,\n",
       "         u'0705539675': 6,\n",
       "         u'0706685753': 3,\n",
       "         u'0708775224': 4,\n",
       "         u'0712697190': 2,\n",
       "         u'0712716701': 1,\n",
       "         u'0713908633': 10,\n",
       "         u'0715655403': 2,\n",
       "         u'0716055174': 8,\n",
       "         u'0717190762': 5,\n",
       "         u'0722052351': 9,\n",
       "         u'0722252112': 9,\n",
       "         u'0722333399': 3,\n",
       "         u'0722527418': 1,\n",
       "         u'0723143418': 49,\n",
       "         u'0725467309': 53,\n",
       "         u'0725700032': 2,\n",
       "         u'0725845976': 1,\n",
       "         u'0726134723': 10,\n",
       "         u'0727346584': 3,\n",
       "         u'0727379185': 4,\n",
       "         u'0727597613': 2,\n",
       "         u'0729165469': 1,\n",
       "         u'0729236326': 1,\n",
       "         u'0729296823': 3,\n",
       "         u'0797234422': 4,\n",
       "         u'0799275972': 3,\n",
       "         u'100': 6,\n",
       "         u'111': 1,\n",
       "         u'144': 42,\n",
       "         u'21991': 1,\n",
       "         u'22430': 22,\n",
       "         u'22846': 1,\n",
       "         u'254260346760': 4,\n",
       "         u'29029': 6,\n",
       "         u'70555': 35,\n",
       "         u'79079': 12,\n",
       "         u'BETYETU': 1,\n",
       "         u'BLAZE': 8,\n",
       "         u'Branch-Co': 29,\n",
       "         u'ECITIZEN': 2,\n",
       "         u'ETOPUP': 1,\n",
       "         u'GetBucks': 1,\n",
       "         u'KCB M-PESA': 5,\n",
       "         u'M-Shwari': 7,\n",
       "         u'MPESA': 199,\n",
       "         u'SAFARICOM': 73,\n",
       "         u'Safaricom': 249,\n",
       "         u'Smartika': 2,\n",
       "         u'StarTimes': 3,\n",
       "         u'Verify': 1,\n",
       "         u'mCHEZA': 1})"
      ]
     },
     "execution_count": 175,
     "metadata": {},
     "output_type": "execute_result"
    }
   ],
   "source": [
    "Counter(dv1_sms.sms_address)"
   ]
  },
  {
   "cell_type": "code",
   "execution_count": 193,
   "metadata": {
    "collapsed": false
   },
   "outputs": [
    {
     "data": {
      "text/html": [
       "<div>\n",
       "<table border=\"1\" class=\"dataframe\">\n",
       "  <thead>\n",
       "    <tr style=\"text-align: right;\">\n",
       "      <th></th>\n",
       "      <th>contact_id</th>\n",
       "      <th>datetime</th>\n",
       "      <th>item_id</th>\n",
       "      <th>message_body</th>\n",
       "      <th>sms_address</th>\n",
       "      <th>sms_type</th>\n",
       "      <th>thread_id</th>\n",
       "    </tr>\n",
       "  </thead>\n",
       "  <tbody>\n",
       "    <tr>\n",
       "      <th>41</th>\n",
       "      <td>0</td>\n",
       "      <td>2017-04-09 11:10:46.416</td>\n",
       "      <td>28798</td>\n",
       "      <td>Hi Abubakar Siddique, Branch reports any non-p...</td>\n",
       "      <td>Branch-Co</td>\n",
       "      <td>1</td>\n",
       "      <td>4030</td>\n",
       "    </tr>\n",
       "    <tr>\n",
       "      <th>74</th>\n",
       "      <td>0</td>\n",
       "      <td>2017-04-06 10:15:43.489</td>\n",
       "      <td>28763</td>\n",
       "      <td>Hi Abubakar Siddique, you are very late on you...</td>\n",
       "      <td>Branch-Co</td>\n",
       "      <td>1</td>\n",
       "      <td>4030</td>\n",
       "    </tr>\n",
       "    <tr>\n",
       "      <th>93</th>\n",
       "      <td>0</td>\n",
       "      <td>2017-04-03 10:23:39.639</td>\n",
       "      <td>28744</td>\n",
       "      <td>Hi Abubakar Siddique, you are very late on you...</td>\n",
       "      <td>Branch-Co</td>\n",
       "      <td>1</td>\n",
       "      <td>4030</td>\n",
       "    </tr>\n",
       "    <tr>\n",
       "      <th>134</th>\n",
       "      <td>0</td>\n",
       "      <td>2017-03-31 10:41:28.476</td>\n",
       "      <td>28700</td>\n",
       "      <td>Hi Abubakar Siddique, you are very late on you...</td>\n",
       "      <td>Branch-Co</td>\n",
       "      <td>1</td>\n",
       "      <td>4030</td>\n",
       "    </tr>\n",
       "    <tr>\n",
       "      <th>149</th>\n",
       "      <td>0</td>\n",
       "      <td>2017-03-28 11:06:58.839</td>\n",
       "      <td>28682</td>\n",
       "      <td>Hi Abubakar Siddique, you are very late on you...</td>\n",
       "      <td>Branch-Co</td>\n",
       "      <td>1</td>\n",
       "      <td>4030</td>\n",
       "    </tr>\n",
       "  </tbody>\n",
       "</table>\n",
       "</div>"
      ],
      "text/plain": [
       "     contact_id                datetime  item_id  \\\n",
       "41            0 2017-04-09 11:10:46.416    28798   \n",
       "74            0 2017-04-06 10:15:43.489    28763   \n",
       "93            0 2017-04-03 10:23:39.639    28744   \n",
       "134           0 2017-03-31 10:41:28.476    28700   \n",
       "149           0 2017-03-28 11:06:58.839    28682   \n",
       "\n",
       "                                          message_body sms_address  sms_type  \\\n",
       "41   Hi Abubakar Siddique, Branch reports any non-p...   Branch-Co         1   \n",
       "74   Hi Abubakar Siddique, you are very late on you...   Branch-Co         1   \n",
       "93   Hi Abubakar Siddique, you are very late on you...   Branch-Co         1   \n",
       "134  Hi Abubakar Siddique, you are very late on you...   Branch-Co         1   \n",
       "149  Hi Abubakar Siddique, you are very late on you...   Branch-Co         1   \n",
       "\n",
       "     thread_id  \n",
       "41        4030  \n",
       "74        4030  \n",
       "93        4030  \n",
       "134       4030  \n",
       "149       4030  "
      ]
     },
     "execution_count": 193,
     "metadata": {},
     "output_type": "execute_result"
    }
   ],
   "source": [
    "dv1_sms[dv1_sms.sms_address == 'Branch-Co'].head(5)"
   ]
  },
  {
   "cell_type": "code",
   "execution_count": null,
   "metadata": {
    "collapsed": true
   },
   "outputs": [],
   "source": []
  }
 ],
 "metadata": {
  "kernelspec": {
   "display_name": "Python 2",
   "language": "python",
   "name": "python2"
  },
  "language_info": {
   "codemirror_mode": {
    "name": "ipython",
    "version": 2
   },
   "file_extension": ".py",
   "mimetype": "text/x-python",
   "name": "python",
   "nbconvert_exporter": "python",
   "pygments_lexer": "ipython2",
   "version": "2.7.11"
  }
 },
 "nbformat": 4,
 "nbformat_minor": 0
}
